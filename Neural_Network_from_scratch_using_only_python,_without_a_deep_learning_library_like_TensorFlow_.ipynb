{
  "nbformat": 4,
  "nbformat_minor": 0,
  "metadata": {
    "colab": {
      "provenance": [],
      "include_colab_link": true
    },
    "kernelspec": {
      "name": "python3",
      "display_name": "Python 3"
    },
    "language_info": {
      "name": "python"
    }
  },
  "cells": [
    {
      "cell_type": "markdown",
      "metadata": {
        "id": "view-in-github",
        "colab_type": "text"
      },
      "source": [
        "<a href=\"https://colab.research.google.com/github/Sagargomad/My_projects/blob/main/Neural_Network_from_scratch_using_only_python%2C_without_a_deep_learning_library_like_TensorFlow_.ipynb\" target=\"_parent\"><img src=\"https://colab.research.google.com/assets/colab-badge.svg\" alt=\"Open In Colab\"/></a>"
      ]
    },
    {
      "cell_type": "code",
      "source": [
        "from google.colab import drive\n",
        "drive.mount('/content/drive')"
      ],
      "metadata": {
        "id": "tHOtRuo8GZLi",
        "outputId": "ecb62f52-2bd6-4890-e3ca-f2b1f756f254",
        "colab": {
          "base_uri": "https://localhost:8080/"
        }
      },
      "execution_count": null,
      "outputs": [
        {
          "output_type": "stream",
          "name": "stdout",
          "text": [
            "Mounted at /content/drive\n"
          ]
        }
      ]
    },
    {
      "cell_type": "code",
      "execution_count": null,
      "metadata": {
        "colab": {
          "base_uri": "https://localhost:8080/"
        },
        "id": "pLFynyJdBy_Y",
        "outputId": "ebb5afe9-4ecd-461c-d625-46ce1004f89f"
      },
      "outputs": [
        {
          "output_type": "stream",
          "name": "stdout",
          "text": [
            "Accuracy: 0.1028\n"
          ]
        }
      ],
      "source": [
        "import numpy as np\n",
        "from keras.datasets import mnist\n",
        "from keras.utils import to_categorical\n",
        "\n",
        "# Loading and preprocessing the MNIST dataset\n",
        "(train_images, train_labels), (test_images, test_labels) = mnist.load_data()\n",
        "train_images = train_images.reshape((60000, 28 * 28))\n",
        "train_images = train_images.astype('float32') / 255\n",
        "\n",
        "test_images = test_images.reshape((10000, 28 * 28))\n",
        "test_images = test_images.astype('float32') / 255\n",
        "\n",
        "train_labels = to_categorical(train_labels)\n",
        "test_labels = to_categorical(test_labels)\n",
        "\n",
        "# Defining the sigmoid activation function and its derivative\n",
        "def sigmoid(x):\n",
        "    return 1 / (1 + np.exp(-np.clip(x, -500, 500)))\n",
        "\n",
        "def sigmoid_derivative(x):\n",
        "    return x * (1 - x)\n",
        "\n",
        "# Creating a class for the two-layer neural network\n",
        "class TwoLayerNN:\n",
        "    def __init__(self, input_size, hidden_size, output_size):\n",
        "        # Initialize the weights and biases for both layers\n",
        "        self.input_size = input_size\n",
        "        self.hidden_size = hidden_size\n",
        "        self.output_size = output_size\n",
        "\n",
        "        self.weights_input_hidden = np.random.uniform(-1, 1, (input_size, hidden_size))\n",
        "        self.bias_hidden = np.zeros((1, hidden_size))\n",
        "\n",
        "        self.weights_hidden_output = np.random.uniform(-1, 1, (hidden_size, output_size))\n",
        "        self.bias_output = np.zeros((1, output_size))\n",
        "\n",
        "    def forward(self, X):\n",
        "        # Forward pass through the network\n",
        "        self.input_layer = X\n",
        "        self.hidden_layer_input = np.dot(X, self.weights_input_hidden) + self.bias_hidden\n",
        "        self.hidden_layer_output = sigmoid(self.hidden_layer_input)\n",
        "        self.output_layer_input = np.dot(self.hidden_layer_output, self.weights_hidden_output) + self.bias_output\n",
        "        self.output_layer_output = sigmoid(self.output_layer_input)\n",
        "        return self.output_layer_output\n",
        "\n",
        "    def backward(self, X, y, learning_rate):\n",
        "        # Backpropagation\n",
        "        error = y - self.output_layer_output\n",
        "\n",
        "        # Computing gradients for the output layer\n",
        "        delta_output = error * sigmoid_derivative(self.output_layer_output)\n",
        "        d_weights_hidden_output = np.dot(self.hidden_layer_output.T, delta_output)\n",
        "        d_bias_output = np.sum(delta_output, axis=0, keepdims=True)\n",
        "\n",
        "        # Computing gradients for the hidden layer\n",
        "        delta_hidden = np.dot(delta_output, self.weights_hidden_output.T) * sigmoid_derivative(self.hidden_layer_output)\n",
        "        d_weights_input_hidden = np.dot(X.T, delta_hidden)\n",
        "        d_bias_hidden = np.sum(delta_hidden, axis=0, keepdims=True)\n",
        "\n",
        "        # Updating weights and biases\n",
        "        self.weights_hidden_output += learning_rate * d_weights_hidden_output\n",
        "        self.bias_output += learning_rate * d_bias_output\n",
        "        self.weights_input_hidden += learning_rate * d_weights_input_hidden\n",
        "        self.bias_hidden += learning_rate * d_bias_hidden\n",
        "\n",
        "    def train(self, X, y, learning_rate, epochs):\n",
        "        for _ in range(epochs):\n",
        "            output = self.forward(X)\n",
        "            self.backward(X, y, learning_rate)\n",
        "\n",
        "    def predict(self, X):\n",
        "        return self.forward(X)\n",
        "\n",
        "if __name__ == \"__main__\":\n",
        "    # Defining network parameters\n",
        "    input_size = 784  # 28x28\n",
        "    hidden_size = 128\n",
        "    output_size = 10\n",
        "\n",
        "    # Initialize and train the neural network\n",
        "    neural_net = TwoLayerNN(input_size, hidden_size, output_size)\n",
        "    neural_net.train(train_images, train_labels, learning_rate=0.1, epochs=10)\n",
        "\n",
        "    # Make predictions\n",
        "    predictions = neural_net.predict(test_images)\n",
        "\n",
        "    # Evaluate the accuracy\n",
        "    accuracy = np.mean(np.argmax(predictions, axis=1) == np.argmax(test_labels, axis=1))\n",
        "    print(\"Accuracy:\", accuracy)\n",
        "\n"
      ]
    },
    {
      "cell_type": "markdown",
      "source": [
        "# **for better accuracy  hyperparameter tuning is done**"
      ],
      "metadata": {
        "id": "4BSvrv8z2U6V"
      }
    },
    {
      "cell_type": "code",
      "source": [
        "import numpy as np\n",
        "from keras.datasets import mnist\n",
        "from keras.utils import to_categorical\n",
        "\n",
        "# Loading and preprocessing the MNIST dataset\n",
        "(train_images, train_labels), (test_images, test_labels) = mnist.load_data()\n",
        "train_images = train_images.reshape((60000, 28 * 28))\n",
        "train_images = train_images.astype('float32') / 255\n",
        "\n",
        "test_images = test_images.reshape((10000, 28 * 28))\n",
        "test_images = test_images.astype('float32') / 255\n",
        "\n",
        "train_labels = to_categorical(train_labels)\n",
        "test_labels = to_categorical(test_labels)\n",
        "\n",
        "# Defining the ReLU activation function and its derivative\n",
        "def relu(x):\n",
        "    return np.maximum(0, x)\n",
        "\n",
        "def relu_derivative(x):\n",
        "    return np.where(x > 0, 1, 0)\n",
        "\n",
        "# Creating a class for the two-layer neural network\n",
        "class TwoLayerNN:\n",
        "    def __init__(self, input_size, hidden_size, output_size):\n",
        "        self.input_size = input_size\n",
        "        self.hidden_size = hidden_size\n",
        "        self.output_size = output_size\n",
        "\n",
        "        # Initializing weights and biases with He initialization\n",
        "        self.weights_input_hidden = np.random.randn(input_size, hidden_size) * np.sqrt(2 / input_size)\n",
        "        self.bias_hidden = np.zeros((1, hidden_size))\n",
        "\n",
        "        self.weights_hidden_output = np.random.randn(hidden_size, output_size) * np.sqrt(2 / hidden_size)\n",
        "        self.bias_output = np.zeros((1, output_size))\n",
        "\n",
        "    def forward(self, X):\n",
        "        self.input_layer = X\n",
        "        self.hidden_layer_input = np.dot(X, self.weights_input_hidden) + self.bias_hidden\n",
        "        self.hidden_layer_output = relu(self.hidden_layer_input)\n",
        "        self.output_layer_input = np.dot(self.hidden_layer_output, self.weights_hidden_output) + self.bias_output\n",
        "        self.output_layer_output = np.exp(self.output_layer_input - np.max(self.output_layer_input, axis=1, keepdims=True))\n",
        "        self.output_layer_output /= np.sum(self.output_layer_output, axis=1, keepdims=True)\n",
        "        return self.output_layer_output\n",
        "\n",
        "    def backward(self, X, y, learning_rate):\n",
        "        m = X.shape[0]\n",
        "        error = self.output_layer_output - y\n",
        "\n",
        "        d_weights_hidden_output = np.dot(self.hidden_layer_output.T, error) / m\n",
        "        d_bias_output = np.sum(error, axis=0, keepdims=True) / m\n",
        "\n",
        "        delta_hidden = np.dot(error, self.weights_hidden_output.T) * relu_derivative(self.hidden_layer_input)\n",
        "        d_weights_input_hidden = np.dot(X.T, delta_hidden) / m\n",
        "        d_bias_hidden = np.sum(delta_hidden, axis=0, keepdims=True) / m\n",
        "\n",
        "        self.weights_hidden_output -= learning_rate * d_weights_hidden_output\n",
        "        self.bias_output -= learning_rate * d_bias_output\n",
        "        self.weights_input_hidden -= learning_rate * d_weights_input_hidden\n",
        "        self.bias_hidden -= learning_rate * d_bias_hidden\n",
        "\n",
        "    def train(self, X, y, learning_rate, epochs, batch_size):\n",
        "        for epoch in range(epochs):\n",
        "            for i in range(0, X.shape[0], batch_size):\n",
        "                X_batch = X[i:i+batch_size]\n",
        "                y_batch = y[i:i+batch_size]\n",
        "                output = self.forward(X_batch)\n",
        "                self.backward(X_batch, y_batch, learning_rate)\n",
        "\n",
        "    def predict(self, X):\n",
        "        return self.forward(X)\n",
        "\n",
        "if __name__ == \"__main__\":\n",
        "    # Defining network parameters\n",
        "    input_size = 784  # 28x28\n",
        "    hidden_size = 128\n",
        "    output_size = 10\n",
        "\n",
        "    # Initialize and train the neural network\n",
        "    neural_net = TwoLayerNN(input_size, hidden_size, output_size)\n",
        "    neural_net.train(train_images, train_labels, learning_rate=0.001, epochs=10, batch_size=64)\n",
        "\n",
        "    # Make predictions\n",
        "    predictions = neural_net.predict(test_images)\n",
        "\n",
        "    # Evaluate the accuracy\n",
        "    accuracy = np.mean(np.argmax(predictions, axis=1) == np.argmax(test_labels, axis=1))\n",
        "    print(\"Accuracy:\", accuracy)\n"
      ],
      "metadata": {
        "id": "hrT38e1gFqFx",
        "outputId": "12dcc3c3-0f16-4c75-d47c-e148e643ac53",
        "colab": {
          "base_uri": "https://localhost:8080/"
        }
      },
      "execution_count": null,
      "outputs": [
        {
          "output_type": "stream",
          "name": "stdout",
          "text": [
            "Accuracy: 0.8856\n"
          ]
        }
      ]
    },
    {
      "cell_type": "code",
      "source": [],
      "metadata": {
        "id": "hTa7WtO2FrUU"
      },
      "execution_count": null,
      "outputs": []
    }
  ]
}