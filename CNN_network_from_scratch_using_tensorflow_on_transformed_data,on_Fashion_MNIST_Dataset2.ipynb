{
  "cells": [
    {
      "cell_type": "markdown",
      "metadata": {
        "id": "view-in-github",
        "colab_type": "text"
      },
      "source": [
        "<a href=\"https://colab.research.google.com/github/Sagargomad/My_projects/blob/main/CNN_network_from_scratch_using_tensorflow_on_transformed_data%2Con_Fashion_MNIST_Dataset2.ipynb\" target=\"_parent\"><img src=\"https://colab.research.google.com/assets/colab-badge.svg\" alt=\"Open In Colab\"/></a>"
      ]
    },
    {
      "cell_type": "code",
      "execution_count": null,
      "id": "26282c15",
      "metadata": {
        "id": "26282c15"
      },
      "outputs": [],
      "source": [
        "# Package imports\n",
        "import numpy as np\n",
        "import matplotlib.pyplot as plt\n",
        "import random\n",
        "from itertools import zip_longest\n",
        "import tensorflow as tf\n",
        "import visualkeras\n",
        "from tensorflow.keras.utils import plot_model\n",
        "import pandas as pd\n",
        "from tensorflow.keras.optimizers import SGD\n",
        "from tensorflow.keras.optimizers import Adam\n",
        "from tensorflow.keras.optimizers import RMSprop\n",
        "from tensorflow.keras.optimizers import Adagrad\n",
        "from sklearn.model_selection import train_test_split\n",
        "%matplotlib inline"
      ]
    },
    {
      "cell_type": "code",
      "execution_count": null,
      "id": "4ba0d4e1",
      "metadata": {
        "id": "4ba0d4e1",
        "outputId": "954ca9a6-2b35-467e-cb62-af6deeb7ef46"
      },
      "outputs": [
        {
          "name": "stdout",
          "output_type": "stream",
          "text": [
            "Reading  t10k-images-idx3-ubyte\n",
            "Reading  t10k-labels-idx1-ubyte\n",
            "Reading  train-images-idx3-ubyte\n",
            "Reading  train-labels-idx1-ubyte\n"
          ]
        }
      ],
      "source": [
        "#Converting the image file into numpy_array which is present in hexadecimal format.\n",
        "#Magic number tells whether it is image or label\n",
        "\n",
        "import os,codecs,numpy\n",
        "\n",
        "\n",
        "datapath = 'C:\\\\Users\\\\91703\\\\Desktop\\\\Quantiphi\\\\Assignment_2\\\\'\n",
        "\n",
        "files = os.listdir(datapath)\n",
        "\n",
        "\n",
        "def get_int(b):\n",
        "    #return int(codecs.encode(b, 'hex'), 16) #This code and below code are same\n",
        "    return int.from_bytes(b, byteorder='big')\n",
        "\n",
        "\n",
        "data_dict = {}\n",
        "for file in files:\n",
        "    if file.endswith('ubyte'):\n",
        "        print('Reading ',file)\n",
        "        with open (datapath+file,'rb') as f:\n",
        "            data = f.read()\n",
        "            type1 = get_int(data[:4])   # 0-3: THE MAGIC NUMBER TO WHETHER IMAGE OR LABEL\n",
        "            length = get_int(data[4:8])  # 4-7: LENGTH OF THE ARRAY  (DIMENSION 0)\n",
        "            if (type1 == 2051):\n",
        "                category = 'images'\n",
        "                num_rows = get_int(data[8:12])\n",
        "                num_cols = get_int(data[12:16])\n",
        "                parsed = numpy.frombuffer(data,dtype = numpy.uint8, offset = 16)\n",
        "                parsed = parsed.reshape(length,num_rows,num_cols)\n",
        "            elif(type1 == 2049):\n",
        "                category = 'labels'\n",
        "                parsed = numpy.frombuffer(data, dtype=numpy.uint8, offset=8)\n",
        "                parsed = parsed.reshape(length,1)\n",
        "            if (length==10000):\n",
        "                set1 = 'test'\n",
        "            elif (length==60000):\n",
        "                set1= 'train'\n",
        "            data_dict[set1+'_'+category] = parsed"
      ]
    },
    {
      "cell_type": "code",
      "execution_count": null,
      "id": "07e3aea8",
      "metadata": {
        "id": "07e3aea8"
      },
      "outputs": [],
      "source": [
        "test_images=data_dict['test_images']\n",
        "test_labels=data_dict['test_labels']\n",
        "train_images=data_dict['train_images']\n",
        "train_labels=data_dict['train_labels']"
      ]
    },
    {
      "cell_type": "code",
      "execution_count": null,
      "id": "893c08da",
      "metadata": {
        "id": "893c08da",
        "outputId": "0738fde7-1677-47d7-9f81-75d988af5adf"
      },
      "outputs": [
        {
          "data": {
            "text/plain": [
              "array([[9],\n",
              "       [2],\n",
              "       [1],\n",
              "       ...,\n",
              "       [8],\n",
              "       [1],\n",
              "       [5]], dtype=uint8)"
            ]
          },
          "execution_count": 377,
          "metadata": {},
          "output_type": "execute_result"
        }
      ],
      "source": [
        "test_labels"
      ]
    },
    {
      "cell_type": "code",
      "execution_count": null,
      "id": "f170a9aa",
      "metadata": {
        "id": "f170a9aa"
      },
      "outputs": [],
      "source": [
        "class_names = ['T-shirt/top', 'Trouser', 'Pullover', 'Dress', 'Coat',\n",
        "               'Sandal', 'Shirt', 'Sneaker', 'Bag', 'Ankle boot']"
      ]
    },
    {
      "cell_type": "code",
      "execution_count": null,
      "id": "cd10103c",
      "metadata": {
        "id": "cd10103c",
        "outputId": "dee7757c-87c9-401c-b335-e25c4a758140"
      },
      "outputs": [
        {
          "data": {
            "image/png": "[encoded data removed]",
            "text/plain": [
              "<Figure size 432x288 with 2 Axes>"
            ]
          },
          "metadata": {
            "needs_background": "light"
          },
          "output_type": "display_data"
        }
      ],
      "source": [
        "\"\"\"\n",
        "plt.imshow() is a function from the Matplotlib library in Python, which\n",
        "is commonly used for data visualization. This function is specifically used to display an image\n",
        "or a 2D array as an image.\n",
        "\"\"\"\n",
        "plt.figure()\n",
        "plt.imshow(train_images[0])\n",
        "plt.colorbar()\n",
        "plt.grid(False)\n",
        "plt.show()"
      ]
    },
    {
      "cell_type": "code",
      "execution_count": null,
      "id": "177fe731",
      "metadata": {
        "id": "177fe731"
      },
      "outputs": [],
      "source": [
        "\"\"\"\n",
        "Scale these values to a range of 0 to 1 before feeding them to the neural network model.\n",
        "To do so, divide the values by 255. It's important that the training set and the testing\n",
        "set be preprocessed in the same way:\n",
        "\"\"\"\n",
        "train_images = train_images.reshape((60000,28,28,1))\n",
        "train_images = train_images / 255.0\n",
        "test_images = test_images.reshape((10000,28,28,1))\n",
        "test_images = test_images / 255.0"
      ]
    },
    {
      "cell_type": "code",
      "execution_count": null,
      "id": "32a4ff72",
      "metadata": {
        "id": "32a4ff72",
        "outputId": "09ecb69d-78c7-4ed5-b732-11eb2a05a856"
      },
      "outputs": [
        {
          "data": {
            "text/plain": [
              "array([[[0.        ],\n",
              "        [0.        ],\n",
              "        [0.        ],\n",
              "        [0.        ],\n",
              "        [0.        ],\n",
              "        [0.        ],\n",
              "        [0.        ],\n",
              "        [0.        ],\n",
              "        [0.        ],\n",
              "        [0.        ],\n",
              "        [0.        ],\n",
              "        [0.        ],\n",
              "        [0.        ],\n",
              "        [0.        ],\n",
              "        [0.        ],\n",
              "        [0.        ],\n",
              "        [0.        ],\n",
              "        [0.        ],\n",
              "        [0.        ],\n",
              "        [0.        ],\n",
              "        [0.        ],\n",
              "        [0.        ],\n",
              "        [0.        ],\n",
              "        [0.        ],\n",
              "        [0.        ],\n",
              "        [0.        ],\n",
              "        [0.        ],\n",
              "        [0.        ]],\n",
              "\n",
              "       [[0.        ],\n",
              "        [0.        ],\n",
              "        [0.        ],\n",
              "        [0.        ],\n",
              "        [0.        ],\n",
              "        [0.        ],\n",
              "        [0.        ],\n",
              "        [0.        ],\n",
              "        [0.        ],\n",
              "        [0.        ],\n",
              "        [0.        ],\n",
              "        [0.        ],\n",
              "        [0.        ],\n",
              "        [0.        ],\n",
              "        [0.        ],\n",
              "        [0.        ],\n",
              "        [0.        ],\n",
              "        [0.        ],\n",
              "        [0.        ],\n",
              "        [0.        ],\n",
              "        [0.        ],\n",
              "        [0.        ],\n",
              "        [0.        ],\n",
              "        [0.        ],\n",
              "        [0.        ],\n",
              "        [0.        ],\n",
              "        [0.        ],\n",
              "        [0.        ]],\n",
              "\n",
              "       [[0.        ],\n",
              "        [0.        ],\n",
              "        [0.        ],\n",
              "        [0.        ],\n",
              "        [0.        ],\n",
              "        [0.        ],\n",
              "        [0.        ],\n",
              "        [0.        ],\n",
              "        [0.        ],\n",
              "        [0.        ],\n",
              "        [0.        ],\n",
              "        [0.        ],\n",
              "        [0.        ],\n",
              "        [0.        ],\n",
              "        [0.        ],\n",
              "        [0.        ],\n",
              "        [0.        ],\n",
              "        [0.        ],\n",
              "        [0.        ],\n",
              "        [0.        ],\n",
              "        [0.        ],\n",
              "        [0.        ],\n",
              "        [0.        ],\n",
              "        [0.        ],\n",
              "        [0.        ],\n",
              "        [0.        ],\n",
              "        [0.        ],\n",
              "        [0.        ]],\n",
              "\n",
              "       [[0.        ],\n",
              "        [0.        ],\n",
              "        [0.        ],\n",
              "        [0.        ],\n",
              "        [0.        ],\n",
              "        [0.        ],\n",
              "        [0.        ],\n",
              "        [0.        ],\n",
              "        [0.        ],\n",
              "        [0.        ],\n",
              "        [0.        ],\n",
              "        [0.        ],\n",
              "        [0.00392157],\n",
              "        [0.        ],\n",
              "        [0.        ],\n",
              "        [0.05098039],\n",
              "        [0.28627451],\n",
              "        [0.        ],\n",
              "        [0.        ],\n",
              "        [0.00392157],\n",
              "        [0.01568627],\n",
              "        [0.        ],\n",
              "        [0.        ],\n",
              "        [0.        ],\n",
              "        [0.        ],\n",
              "        [0.00392157],\n",
              "        [0.00392157],\n",
              "        [0.        ]],\n",
              "\n",
              "       [[0.        ],\n",
              "        [0.        ],\n",
              "        [0.        ],\n",
              "        [0.        ],\n",
              "        [0.        ],\n",
              "        [0.        ],\n",
              "        [0.        ],\n",
              "        [0.        ],\n",
              "        [0.        ],\n",
              "        [0.        ],\n",
              "        [0.        ],\n",
              "        [0.        ],\n",
              "        [0.01176471],\n",
              "        [0.        ],\n",
              "        [0.14117647],\n",
              "        [0.53333333],\n",
              "        [0.49803922],\n",
              "        [0.24313725],\n",
              "        [0.21176471],\n",
              "        [0.        ],\n",
              "        [0.        ],\n",
              "        [0.        ],\n",
              "        [0.00392157],\n",
              "        [0.01176471],\n",
              "        [0.01568627],\n",
              "        [0.        ],\n",
              "        [0.        ],\n",
              "        [0.01176471]],\n",
              "\n",
              "       [[0.        ],\n",
              "        [0.        ],\n",
              "        [0.        ],\n",
              "        [0.        ],\n",
              "        [0.        ],\n",
              "        [0.        ],\n",
              "        [0.        ],\n",
              "        [0.        ],\n",
              "        [0.        ],\n",
              "        [0.        ],\n",
              "        [0.        ],\n",
              "        [0.        ],\n",
              "        [0.02352941],\n",
              "        [0.        ],\n",
              "        [0.4       ],\n",
              "        [0.8       ],\n",
              "        [0.69019608],\n",
              "        [0.5254902 ],\n",
              "        [0.56470588],\n",
              "        [0.48235294],\n",
              "        [0.09019608],\n",
              "        [0.        ],\n",
              "        [0.        ],\n",
              "        [0.        ],\n",
              "        [0.        ],\n",
              "        [0.04705882],\n",
              "        [0.03921569],\n",
              "        [0.        ]],\n",
              "\n",
              "       [[0.        ],\n",
              "        [0.        ],\n",
              "        [0.        ],\n",
              "        [0.        ],\n",
              "        [0.        ],\n",
              "        [0.        ],\n",
              "        [0.        ],\n",
              "        [0.        ],\n",
              "        [0.        ],\n",
              "        [0.        ],\n",
              "        [0.        ],\n",
              "        [0.        ],\n",
              "        [0.        ],\n",
              "        [0.        ],\n",
              "        [0.60784314],\n",
              "        [0.9254902 ],\n",
              "        [0.81176471],\n",
              "        [0.69803922],\n",
              "        [0.41960784],\n",
              "        [0.61176471],\n",
              "        [0.63137255],\n",
              "        [0.42745098],\n",
              "        [0.25098039],\n",
              "        [0.09019608],\n",
              "        [0.30196078],\n",
              "        [0.50980392],\n",
              "        [0.28235294],\n",
              "        [0.05882353]],\n",
              "\n",
              "       [[0.        ],\n",
              "        [0.        ],\n",
              "        [0.        ],\n",
              "        [0.        ],\n",
              "        [0.        ],\n",
              "        [0.        ],\n",
              "        [0.        ],\n",
              "        [0.        ],\n",
              "        [0.        ],\n",
              "        [0.        ],\n",
              "        [0.        ],\n",
              "        [0.00392157],\n",
              "        [0.        ],\n",
              "        [0.27058824],\n",
              "        [0.81176471],\n",
              "        [0.8745098 ],\n",
              "        [0.85490196],\n",
              "        [0.84705882],\n",
              "        [0.84705882],\n",
              "        [0.63921569],\n",
              "        [0.49803922],\n",
              "        [0.4745098 ],\n",
              "        [0.47843137],\n",
              "        [0.57254902],\n",
              "        [0.55294118],\n",
              "        [0.34509804],\n",
              "        [0.6745098 ],\n",
              "        [0.25882353]],\n",
              "\n",
              "       [[0.        ],\n",
              "        [0.        ],\n",
              "        [0.        ],\n",
              "        [0.        ],\n",
              "        [0.        ],\n",
              "        [0.        ],\n",
              "        [0.        ],\n",
              "        [0.        ],\n",
              "        [0.        ],\n",
              "        [0.00392157],\n",
              "        [0.00392157],\n",
              "        [0.00392157],\n",
              "        [0.        ],\n",
              "        [0.78431373],\n",
              "        [0.90980392],\n",
              "        [0.90980392],\n",
              "        [0.91372549],\n",
              "        [0.89803922],\n",
              "        [0.8745098 ],\n",
              "        [0.8745098 ],\n",
              "        [0.84313725],\n",
              "        [0.83529412],\n",
              "        [0.64313725],\n",
              "        [0.49803922],\n",
              "        [0.48235294],\n",
              "        [0.76862745],\n",
              "        [0.89803922],\n",
              "        [0.        ]],\n",
              "\n",
              "       [[0.        ],\n",
              "        [0.        ],\n",
              "        [0.        ],\n",
              "        [0.        ],\n",
              "        [0.        ],\n",
              "        [0.        ],\n",
              "        [0.        ],\n",
              "        [0.        ],\n",
              "        [0.        ],\n",
              "        [0.        ],\n",
              "        [0.        ],\n",
              "        [0.        ],\n",
              "        [0.        ],\n",
              "        [0.71764706],\n",
              "        [0.88235294],\n",
              "        [0.84705882],\n",
              "        [0.8745098 ],\n",
              "        [0.89411765],\n",
              "        [0.92156863],\n",
              "        [0.89019608],\n",
              "        [0.87843137],\n",
              "        [0.87058824],\n",
              "        [0.87843137],\n",
              "        [0.86666667],\n",
              "        [0.8745098 ],\n",
              "        [0.96078431],\n",
              "        [0.67843137],\n",
              "        [0.        ]],\n",
              "\n",
              "       [[0.        ],\n",
              "        [0.        ],\n",
              "        [0.        ],\n",
              "        [0.        ],\n",
              "        [0.        ],\n",
              "        [0.        ],\n",
              "        [0.        ],\n",
              "        [0.        ],\n",
              "        [0.        ],\n",
              "        [0.        ],\n",
              "        [0.        ],\n",
              "        [0.        ],\n",
              "        [0.        ],\n",
              "        [0.75686275],\n",
              "        [0.89411765],\n",
              "        [0.85490196],\n",
              "        [0.83529412],\n",
              "        [0.77647059],\n",
              "        [0.70588235],\n",
              "        [0.83137255],\n",
              "        [0.82352941],\n",
              "        [0.82745098],\n",
              "        [0.83529412],\n",
              "        [0.8745098 ],\n",
              "        [0.8627451 ],\n",
              "        [0.95294118],\n",
              "        [0.79215686],\n",
              "        [0.        ]],\n",
              "\n",
              "       [[0.        ],\n",
              "        [0.        ],\n",
              "        [0.        ],\n",
              "        [0.        ],\n",
              "        [0.        ],\n",
              "        [0.        ],\n",
              "        [0.        ],\n",
              "        [0.        ],\n",
              "        [0.        ],\n",
              "        [0.00392157],\n",
              "        [0.01176471],\n",
              "        [0.        ],\n",
              "        [0.04705882],\n",
              "        [0.85882353],\n",
              "        [0.8627451 ],\n",
              "        [0.83137255],\n",
              "        [0.85490196],\n",
              "        [0.75294118],\n",
              "        [0.6627451 ],\n",
              "        [0.89019608],\n",
              "        [0.81568627],\n",
              "        [0.85490196],\n",
              "        [0.87843137],\n",
              "        [0.83137255],\n",
              "        [0.88627451],\n",
              "        [0.77254902],\n",
              "        [0.81960784],\n",
              "        [0.20392157]],\n",
              "\n",
              "       [[0.        ],\n",
              "        [0.        ],\n",
              "        [0.        ],\n",
              "        [0.        ],\n",
              "        [0.        ],\n",
              "        [0.        ],\n",
              "        [0.        ],\n",
              "        [0.        ],\n",
              "        [0.        ],\n",
              "        [0.        ],\n",
              "        [0.02352941],\n",
              "        [0.        ],\n",
              "        [0.38823529],\n",
              "        [0.95686275],\n",
              "        [0.87058824],\n",
              "        [0.8627451 ],\n",
              "        [0.85490196],\n",
              "        [0.79607843],\n",
              "        [0.77647059],\n",
              "        [0.86666667],\n",
              "        [0.84313725],\n",
              "        [0.83529412],\n",
              "        [0.87058824],\n",
              "        [0.8627451 ],\n",
              "        [0.96078431],\n",
              "        [0.46666667],\n",
              "        [0.65490196],\n",
              "        [0.21960784]],\n",
              "\n",
              "       [[0.        ],\n",
              "        [0.        ],\n",
              "        [0.        ],\n",
              "        [0.        ],\n",
              "        [0.        ],\n",
              "        [0.        ],\n",
              "        [0.        ],\n",
              "        [0.        ],\n",
              "        [0.        ],\n",
              "        [0.01568627],\n",
              "        [0.        ],\n",
              "        [0.        ],\n",
              "        [0.21568627],\n",
              "        [0.9254902 ],\n",
              "        [0.89411765],\n",
              "        [0.90196078],\n",
              "        [0.89411765],\n",
              "        [0.94117647],\n",
              "        [0.90980392],\n",
              "        [0.83529412],\n",
              "        [0.85490196],\n",
              "        [0.8745098 ],\n",
              "        [0.91764706],\n",
              "        [0.85098039],\n",
              "        [0.85098039],\n",
              "        [0.81960784],\n",
              "        [0.36078431],\n",
              "        [0.        ]],\n",
              "\n",
              "       [[0.        ],\n",
              "        [0.        ],\n",
              "        [0.00392157],\n",
              "        [0.01568627],\n",
              "        [0.02352941],\n",
              "        [0.02745098],\n",
              "        [0.00784314],\n",
              "        [0.        ],\n",
              "        [0.        ],\n",
              "        [0.        ],\n",
              "        [0.        ],\n",
              "        [0.        ],\n",
              "        [0.92941176],\n",
              "        [0.88627451],\n",
              "        [0.85098039],\n",
              "        [0.8745098 ],\n",
              "        [0.87058824],\n",
              "        [0.85882353],\n",
              "        [0.87058824],\n",
              "        [0.86666667],\n",
              "        [0.84705882],\n",
              "        [0.8745098 ],\n",
              "        [0.89803922],\n",
              "        [0.84313725],\n",
              "        [0.85490196],\n",
              "        [1.        ],\n",
              "        [0.30196078],\n",
              "        [0.        ]],\n",
              "\n",
              "       [[0.        ],\n",
              "        [0.01176471],\n",
              "        [0.        ],\n",
              "        [0.        ],\n",
              "        [0.        ],\n",
              "        [0.        ],\n",
              "        [0.        ],\n",
              "        [0.        ],\n",
              "        [0.        ],\n",
              "        [0.24313725],\n",
              "        [0.56862745],\n",
              "        [0.8       ],\n",
              "        [0.89411765],\n",
              "        [0.81176471],\n",
              "        [0.83529412],\n",
              "        [0.86666667],\n",
              "        [0.85490196],\n",
              "        [0.81568627],\n",
              "        [0.82745098],\n",
              "        [0.85490196],\n",
              "        [0.87843137],\n",
              "        [0.8745098 ],\n",
              "        [0.85882353],\n",
              "        [0.84313725],\n",
              "        [0.87843137],\n",
              "        [0.95686275],\n",
              "        [0.62352941],\n",
              "        [0.        ]],\n",
              "\n",
              "       [[0.        ],\n",
              "        [0.        ],\n",
              "        [0.        ],\n",
              "        [0.        ],\n",
              "        [0.07058824],\n",
              "        [0.17254902],\n",
              "        [0.32156863],\n",
              "        [0.41960784],\n",
              "        [0.74117647],\n",
              "        [0.89411765],\n",
              "        [0.8627451 ],\n",
              "        [0.87058824],\n",
              "        [0.85098039],\n",
              "        [0.88627451],\n",
              "        [0.78431373],\n",
              "        [0.80392157],\n",
              "        [0.82745098],\n",
              "        [0.90196078],\n",
              "        [0.87843137],\n",
              "        [0.91764706],\n",
              "        [0.69019608],\n",
              "        [0.7372549 ],\n",
              "        [0.98039216],\n",
              "        [0.97254902],\n",
              "        [0.91372549],\n",
              "        [0.93333333],\n",
              "        [0.84313725],\n",
              "        [0.        ]],\n",
              "\n",
              "       [[0.        ],\n",
              "        [0.22352941],\n",
              "        [0.73333333],\n",
              "        [0.81568627],\n",
              "        [0.87843137],\n",
              "        [0.86666667],\n",
              "        [0.87843137],\n",
              "        [0.81568627],\n",
              "        [0.8       ],\n",
              "        [0.83921569],\n",
              "        [0.81568627],\n",
              "        [0.81960784],\n",
              "        [0.78431373],\n",
              "        [0.62352941],\n",
              "        [0.96078431],\n",
              "        [0.75686275],\n",
              "        [0.80784314],\n",
              "        [0.8745098 ],\n",
              "        [1.        ],\n",
              "        [1.        ],\n",
              "        [0.86666667],\n",
              "        [0.91764706],\n",
              "        [0.86666667],\n",
              "        [0.82745098],\n",
              "        [0.8627451 ],\n",
              "        [0.90980392],\n",
              "        [0.96470588],\n",
              "        [0.        ]],\n",
              "\n",
              "       [[0.01176471],\n",
              "        [0.79215686],\n",
              "        [0.89411765],\n",
              "        [0.87843137],\n",
              "        [0.86666667],\n",
              "        [0.82745098],\n",
              "        [0.82745098],\n",
              "        [0.83921569],\n",
              "        [0.80392157],\n",
              "        [0.80392157],\n",
              "        [0.80392157],\n",
              "        [0.8627451 ],\n",
              "        [0.94117647],\n",
              "        [0.31372549],\n",
              "        [0.58823529],\n",
              "        [1.        ],\n",
              "        [0.89803922],\n",
              "        [0.86666667],\n",
              "        [0.7372549 ],\n",
              "        [0.60392157],\n",
              "        [0.74901961],\n",
              "        [0.82352941],\n",
              "        [0.8       ],\n",
              "        [0.81960784],\n",
              "        [0.87058824],\n",
              "        [0.89411765],\n",
              "        [0.88235294],\n",
              "        [0.        ]],\n",
              "\n",
              "       [[0.38431373],\n",
              "        [0.91372549],\n",
              "        [0.77647059],\n",
              "        [0.82352941],\n",
              "        [0.87058824],\n",
              "        [0.89803922],\n",
              "        [0.89803922],\n",
              "        [0.91764706],\n",
              "        [0.97647059],\n",
              "        [0.8627451 ],\n",
              "        [0.76078431],\n",
              "        [0.84313725],\n",
              "        [0.85098039],\n",
              "        [0.94509804],\n",
              "        [0.25490196],\n",
              "        [0.28627451],\n",
              "        [0.41568627],\n",
              "        [0.45882353],\n",
              "        [0.65882353],\n",
              "        [0.85882353],\n",
              "        [0.86666667],\n",
              "        [0.84313725],\n",
              "        [0.85098039],\n",
              "        [0.8745098 ],\n",
              "        [0.8745098 ],\n",
              "        [0.87843137],\n",
              "        [0.89803922],\n",
              "        [0.11372549]],\n",
              "\n",
              "       [[0.29411765],\n",
              "        [0.8       ],\n",
              "        [0.83137255],\n",
              "        [0.8       ],\n",
              "        [0.75686275],\n",
              "        [0.80392157],\n",
              "        [0.82745098],\n",
              "        [0.88235294],\n",
              "        [0.84705882],\n",
              "        [0.7254902 ],\n",
              "        [0.77254902],\n",
              "        [0.80784314],\n",
              "        [0.77647059],\n",
              "        [0.83529412],\n",
              "        [0.94117647],\n",
              "        [0.76470588],\n",
              "        [0.89019608],\n",
              "        [0.96078431],\n",
              "        [0.9372549 ],\n",
              "        [0.8745098 ],\n",
              "        [0.85490196],\n",
              "        [0.83137255],\n",
              "        [0.81960784],\n",
              "        [0.87058824],\n",
              "        [0.8627451 ],\n",
              "        [0.86666667],\n",
              "        [0.90196078],\n",
              "        [0.2627451 ]],\n",
              "\n",
              "       [[0.18823529],\n",
              "        [0.79607843],\n",
              "        [0.71764706],\n",
              "        [0.76078431],\n",
              "        [0.83529412],\n",
              "        [0.77254902],\n",
              "        [0.7254902 ],\n",
              "        [0.74509804],\n",
              "        [0.76078431],\n",
              "        [0.75294118],\n",
              "        [0.79215686],\n",
              "        [0.83921569],\n",
              "        [0.85882353],\n",
              "        [0.86666667],\n",
              "        [0.8627451 ],\n",
              "        [0.9254902 ],\n",
              "        [0.88235294],\n",
              "        [0.84705882],\n",
              "        [0.78039216],\n",
              "        [0.80784314],\n",
              "        [0.72941176],\n",
              "        [0.70980392],\n",
              "        [0.69411765],\n",
              "        [0.6745098 ],\n",
              "        [0.70980392],\n",
              "        [0.80392157],\n",
              "        [0.80784314],\n",
              "        [0.45098039]],\n",
              "\n",
              "       [[0.        ],\n",
              "        [0.47843137],\n",
              "        [0.85882353],\n",
              "        [0.75686275],\n",
              "        [0.70196078],\n",
              "        [0.67058824],\n",
              "        [0.71764706],\n",
              "        [0.76862745],\n",
              "        [0.8       ],\n",
              "        [0.82352941],\n",
              "        [0.83529412],\n",
              "        [0.81176471],\n",
              "        [0.82745098],\n",
              "        [0.82352941],\n",
              "        [0.78431373],\n",
              "        [0.76862745],\n",
              "        [0.76078431],\n",
              "        [0.74901961],\n",
              "        [0.76470588],\n",
              "        [0.74901961],\n",
              "        [0.77647059],\n",
              "        [0.75294118],\n",
              "        [0.69019608],\n",
              "        [0.61176471],\n",
              "        [0.65490196],\n",
              "        [0.69411765],\n",
              "        [0.82352941],\n",
              "        [0.36078431]],\n",
              "\n",
              "       [[0.        ],\n",
              "        [0.        ],\n",
              "        [0.29019608],\n",
              "        [0.74117647],\n",
              "        [0.83137255],\n",
              "        [0.74901961],\n",
              "        [0.68627451],\n",
              "        [0.6745098 ],\n",
              "        [0.68627451],\n",
              "        [0.70980392],\n",
              "        [0.7254902 ],\n",
              "        [0.7372549 ],\n",
              "        [0.74117647],\n",
              "        [0.7372549 ],\n",
              "        [0.75686275],\n",
              "        [0.77647059],\n",
              "        [0.8       ],\n",
              "        [0.81960784],\n",
              "        [0.82352941],\n",
              "        [0.82352941],\n",
              "        [0.82745098],\n",
              "        [0.7372549 ],\n",
              "        [0.7372549 ],\n",
              "        [0.76078431],\n",
              "        [0.75294118],\n",
              "        [0.84705882],\n",
              "        [0.66666667],\n",
              "        [0.        ]],\n",
              "\n",
              "       [[0.00784314],\n",
              "        [0.        ],\n",
              "        [0.        ],\n",
              "        [0.        ],\n",
              "        [0.25882353],\n",
              "        [0.78431373],\n",
              "        [0.87058824],\n",
              "        [0.92941176],\n",
              "        [0.9372549 ],\n",
              "        [0.94901961],\n",
              "        [0.96470588],\n",
              "        [0.95294118],\n",
              "        [0.95686275],\n",
              "        [0.86666667],\n",
              "        [0.8627451 ],\n",
              "        [0.75686275],\n",
              "        [0.74901961],\n",
              "        [0.70196078],\n",
              "        [0.71372549],\n",
              "        [0.71372549],\n",
              "        [0.70980392],\n",
              "        [0.69019608],\n",
              "        [0.65098039],\n",
              "        [0.65882353],\n",
              "        [0.38823529],\n",
              "        [0.22745098],\n",
              "        [0.        ],\n",
              "        [0.        ]],\n",
              "\n",
              "       [[0.        ],\n",
              "        [0.        ],\n",
              "        [0.        ],\n",
              "        [0.        ],\n",
              "        [0.        ],\n",
              "        [0.        ],\n",
              "        [0.        ],\n",
              "        [0.15686275],\n",
              "        [0.23921569],\n",
              "        [0.17254902],\n",
              "        [0.28235294],\n",
              "        [0.16078431],\n",
              "        [0.1372549 ],\n",
              "        [0.        ],\n",
              "        [0.        ],\n",
              "        [0.        ],\n",
              "        [0.        ],\n",
              "        [0.        ],\n",
              "        [0.        ],\n",
              "        [0.        ],\n",
              "        [0.        ],\n",
              "        [0.        ],\n",
              "        [0.        ],\n",
              "        [0.        ],\n",
              "        [0.        ],\n",
              "        [0.        ],\n",
              "        [0.        ],\n",
              "        [0.        ]],\n",
              "\n",
              "       [[0.        ],\n",
              "        [0.        ],\n",
              "        [0.        ],\n",
              "        [0.        ],\n",
              "        [0.        ],\n",
              "        [0.        ],\n",
              "        [0.        ],\n",
              "        [0.        ],\n",
              "        [0.        ],\n",
              "        [0.        ],\n",
              "        [0.        ],\n",
              "        [0.        ],\n",
              "        [0.        ],\n",
              "        [0.        ],\n",
              "        [0.        ],\n",
              "        [0.        ],\n",
              "        [0.        ],\n",
              "        [0.        ],\n",
              "        [0.        ],\n",
              "        [0.        ],\n",
              "        [0.        ],\n",
              "        [0.        ],\n",
              "        [0.        ],\n",
              "        [0.        ],\n",
              "        [0.        ],\n",
              "        [0.        ],\n",
              "        [0.        ],\n",
              "        [0.        ]],\n",
              "\n",
              "       [[0.        ],\n",
              "        [0.        ],\n",
              "        [0.        ],\n",
              "        [0.        ],\n",
              "        [0.        ],\n",
              "        [0.        ],\n",
              "        [0.        ],\n",
              "        [0.        ],\n",
              "        [0.        ],\n",
              "        [0.        ],\n",
              "        [0.        ],\n",
              "        [0.        ],\n",
              "        [0.        ],\n",
              "        [0.        ],\n",
              "        [0.        ],\n",
              "        [0.        ],\n",
              "        [0.        ],\n",
              "        [0.        ],\n",
              "        [0.        ],\n",
              "        [0.        ],\n",
              "        [0.        ],\n",
              "        [0.        ],\n",
              "        [0.        ],\n",
              "        [0.        ],\n",
              "        [0.        ],\n",
              "        [0.        ],\n",
              "        [0.        ],\n",
              "        [0.        ]]])"
            ]
          },
          "execution_count": 381,
          "metadata": {},
          "output_type": "execute_result"
        }
      ],
      "source": [
        "train_images[0]"
      ]
    },
    {
      "cell_type": "code",
      "execution_count": null,
      "id": "56ce602a",
      "metadata": {
        "id": "56ce602a",
        "outputId": "0f5a41a4-fbff-479e-bd3b-531a9beb35c7"
      },
      "outputs": [
        {
          "data": {
            "image/png": "[encoded data removed]",
            "text/plain": [
              "<Figure size 720x720 with 25 Axes>"
            ]
          },
          "metadata": {},
          "output_type": "display_data"
        }
      ],
      "source": [
        "plt.figure(figsize=(10,10))\n",
        "for i in range(25):\n",
        "    plt.subplot(5,5,i+1)\n",
        "    plt.xticks([])\n",
        "    plt.yticks([])\n",
        "    plt.grid(False)\n",
        "    plt.imshow(train_images[i], cmap=plt.cm.binary)\n",
        "    plt.xlabel(class_names[train_labels[i][0]])\n",
        "plt.show()"
      ]
    },
    {
      "cell_type": "code",
      "execution_count": null,
      "id": "3d198219",
      "metadata": {
        "id": "3d198219"
      },
      "outputs": [],
      "source": [
        "LAYERS = [\n",
        "    tf.keras.layers.Conv2D(16, (3,3),padding='same', activation='relu', input_shape=(28, 28,1)),\n",
        "    tf.keras.layers.MaxPooling2D((2, 2)),\n",
        "    tf.keras.layers.Conv2D(32, (3,3),strides=1, activation='relu'),\n",
        "    tf.keras.layers.MaxPooling2D((2, 2)),\n",
        "    tf.keras.layers.Conv2D(64, (3,3), activation='relu'),\n",
        "    tf.keras.layers.MaxPooling2D((2, 2)),\n",
        "    tf.keras.layers.Flatten(),\n",
        "    tf.keras.layers.Dense(64, activation='relu'),\n",
        "    tf.keras.layers.Dense(10, activation='softmax')\n",
        "]"
      ]
    },
    {
      "cell_type": "code",
      "execution_count": null,
      "id": "b99c6220",
      "metadata": {
        "id": "b99c6220"
      },
      "outputs": [],
      "source": [
        "model = tf.keras.models.Sequential(layers= LAYERS)"
      ]
    },
    {
      "cell_type": "code",
      "execution_count": null,
      "id": "0f4338a0",
      "metadata": {
        "id": "0f4338a0",
        "outputId": "4c51e3f8-f439-4bef-95e9-890d4500919a"
      },
      "outputs": [
        {
          "data": {
            "image/png": "[encoded data removed]",
            "text/plain": [
              "<PIL.Image.Image image mode=RGBA size=308x150 at 0x2D07E968040>"
            ]
          },
          "execution_count": 385,
          "metadata": {},
          "output_type": "execute_result"
        }
      ],
      "source": [
        "visualkeras.layered_view(model)"
      ]
    },
    {
      "cell_type": "code",
      "execution_count": null,
      "id": "13659e34",
      "metadata": {
        "scrolled": true,
        "id": "13659e34",
        "outputId": "651ab685-c81d-40b2-c084-1653887b1b8b"
      },
      "outputs": [
        {
          "name": "stdout",
          "output_type": "stream",
          "text": [
            "Model: \"sequential_43\"\n",
            "_________________________________________________________________\n",
            " Layer (type)                Output Shape              Param #   \n",
            "=================================================================\n",
            " conv2d_93 (Conv2D)          (None, 28, 28, 16)        160       \n",
            "                                                                 \n",
            " max_pooling2d_93 (MaxPooli  (None, 14, 14, 16)        0         \n",
            " ng2D)                                                           \n",
            "                                                                 \n",
            " conv2d_94 (Conv2D)          (None, 12, 12, 32)        4640      \n",
            "                                                                 \n",
            " max_pooling2d_94 (MaxPooli  (None, 6, 6, 32)          0         \n",
            " ng2D)                                                           \n",
            "                                                                 \n",
            " conv2d_95 (Conv2D)          (None, 4, 4, 64)          18496     \n",
            "                                                                 \n",
            " max_pooling2d_95 (MaxPooli  (None, 2, 2, 64)          0         \n",
            " ng2D)                                                           \n",
            "                                                                 \n",
            " flatten_32 (Flatten)        (None, 256)               0         \n",
            "                                                                 \n",
            " dense_64 (Dense)            (None, 64)                16448     \n",
            "                                                                 \n",
            " dense_65 (Dense)            (None, 10)                650       \n",
            "                                                                 \n",
            "=================================================================\n",
            "Total params: 40394 (157.79 KB)\n",
            "Trainable params: 40394 (157.79 KB)\n",
            "Non-trainable params: 0 (0.00 Byte)\n",
            "_________________________________________________________________\n"
          ]
        }
      ],
      "source": [
        "model.summary()"
      ]
    },
    {
      "cell_type": "code",
      "execution_count": null,
      "id": "d27e62f2",
      "metadata": {
        "id": "d27e62f2"
      },
      "outputs": [],
      "source": [
        "#To calculate_parameters for conv2d\n",
        "#(only one input channel)1*3*3(This is filter size)*32(Number of filters)+32(Number of biases which is same as number of filters)\n"
      ]
    },
    {
      "cell_type": "code",
      "execution_count": null,
      "id": "41d4c92b",
      "metadata": {
        "id": "41d4c92b"
      },
      "outputs": [],
      "source": [
        "#optimizer = [SGD(learning_rate=0.01),Adam(learning_rate=0.001),RMSprop(learning_rate=0.001),Adagrad(learning_rate=0.01)]"
      ]
    },
    {
      "cell_type": "code",
      "execution_count": null,
      "id": "88850e66",
      "metadata": {
        "id": "88850e66"
      },
      "outputs": [],
      "source": [
        "model.compile(optimizer=Adam(learning_rate=0.001),\n",
        "              loss='sparse_categorical_crossentropy',\n",
        "              metrics=['accuracy'])"
      ]
    },
    {
      "cell_type": "code",
      "execution_count": null,
      "id": "e52415da",
      "metadata": {
        "id": "e52415da"
      },
      "outputs": [],
      "source": [
        "# Split the training dataset into training and validation sets\n",
        "train_images, val_images, train_labels, val_labels = train_test_split(train_images, train_labels, test_size=0.2, random_state=0)"
      ]
    },
    {
      "cell_type": "code",
      "execution_count": null,
      "id": "1d886dff",
      "metadata": {
        "id": "1d886dff",
        "outputId": "a0b045df-0693-4d5e-fbd9-12eb337e68f0"
      },
      "outputs": [
        {
          "name": "stdout",
          "output_type": "stream",
          "text": [
            "Epoch 1/5\n",
            "1500/1500 [==============================] - 16s 9ms/step - loss: 0.5423 - accuracy: 0.8051 - val_loss: 0.3910 - val_accuracy: 0.8587\n",
            "Epoch 2/5\n",
            "1500/1500 [==============================] - 14s 9ms/step - loss: 0.3560 - accuracy: 0.8711 - val_loss: 0.3330 - val_accuracy: 0.8776\n",
            "Epoch 3/5\n",
            "1500/1500 [==============================] - 15s 10ms/step - loss: 0.3064 - accuracy: 0.8890 - val_loss: 0.3092 - val_accuracy: 0.8864\n",
            "Epoch 4/5\n",
            "1500/1500 [==============================] - 16s 10ms/step - loss: 0.2785 - accuracy: 0.8977 - val_loss: 0.2922 - val_accuracy: 0.8906\n",
            "Epoch 5/5\n",
            "1500/1500 [==============================] - 17s 11ms/step - loss: 0.2555 - accuracy: 0.9060 - val_loss: 0.3173 - val_accuracy: 0.8851\n"
          ]
        }
      ],
      "source": [
        "EPOCHS = 5\n",
        "history = model.fit(train_images, train_labels,epochs=EPOCHS,validation_data=(val_images, val_labels))\n"
      ]
    },
    {
      "cell_type": "code",
      "execution_count": null,
      "id": "46c0c6ca",
      "metadata": {
        "id": "46c0c6ca",
        "outputId": "57c7d2f1-2ccd-4ef8-8864-c52338479e9b"
      },
      "outputs": [
        {
          "name": "stdout",
          "output_type": "stream",
          "text": [
            "<keras.src.callbacks.History object at 0x000002D0632AC940>\n"
          ]
        }
      ],
      "source": [
        "print(history)"
      ]
    },
    {
      "cell_type": "code",
      "execution_count": null,
      "id": "9dd66a91",
      "metadata": {
        "id": "9dd66a91",
        "outputId": "34c9286f-87db-4886-8fa9-af671864d360"
      },
      "outputs": [
        {
          "name": "stdout",
          "output_type": "stream",
          "text": [
            "{'loss': [0.5422531366348267, 0.355973482131958, 0.30641934275627136, 0.2784537374973297, 0.25548896193504333], 'accuracy': [0.805062472820282, 0.8711458444595337, 0.8889583349227905, 0.8976874947547913, 0.9060208201408386], 'val_loss': [0.39099347591400146, 0.3329760730266571, 0.309159517288208, 0.29224422574043274, 0.3173181414604187], 'val_accuracy': [0.8587499856948853, 0.8775833249092102, 0.8864166736602783, 0.890583336353302, 0.8850833177566528]}\n"
          ]
        }
      ],
      "source": [
        "print(history.history)"
      ]
    },
    {
      "cell_type": "code",
      "execution_count": null,
      "id": "cf722a8c",
      "metadata": {
        "id": "cf722a8c",
        "outputId": "766bfd32-b62c-43e9-c4b5-87a77fa52a1a"
      },
      "outputs": [
        {
          "name": "stdout",
          "output_type": "stream",
          "text": [
            "<bound method Model.fit of <keras.src.engine.sequential.Sequential object at 0x000002D0843EC4C0>>\n"
          ]
        }
      ],
      "source": [
        "print(model.fit)"
      ]
    },
    {
      "cell_type": "code",
      "execution_count": null,
      "id": "01733917",
      "metadata": {
        "id": "01733917",
        "outputId": "20522c45-be56-4fa5-8ff3-8f4aaacbe7ce"
      },
      "outputs": [
        {
          "data": {
            "text/html": [
              "<div>\n",
              "<style scoped>\n",
              "    .dataframe tbody tr th:only-of-type {\n",
              "        vertical-align: middle;\n",
              "    }\n",
              "\n",
              "    .dataframe tbody tr th {\n",
              "        vertical-align: top;\n",
              "    }\n",
              "\n",
              "    .dataframe thead th {\n",
              "        text-align: right;\n",
              "    }\n",
              "</style>\n",
              "<table border=\"1\" class=\"dataframe\">\n",
              "  <thead>\n",
              "    <tr style=\"text-align: right;\">\n",
              "      <th></th>\n",
              "      <th>loss</th>\n",
              "      <th>accuracy</th>\n",
              "      <th>val_loss</th>\n",
              "      <th>val_accuracy</th>\n",
              "    </tr>\n",
              "  </thead>\n",
              "  <tbody>\n",
              "    <tr>\n",
              "      <th>0</th>\n",
              "      <td>0.542253</td>\n",
              "      <td>0.805062</td>\n",
              "      <td>0.390993</td>\n",
              "      <td>0.858750</td>\n",
              "    </tr>\n",
              "    <tr>\n",
              "      <th>1</th>\n",
              "      <td>0.355973</td>\n",
              "      <td>0.871146</td>\n",
              "      <td>0.332976</td>\n",
              "      <td>0.877583</td>\n",
              "    </tr>\n",
              "    <tr>\n",
              "      <th>2</th>\n",
              "      <td>0.306419</td>\n",
              "      <td>0.888958</td>\n",
              "      <td>0.309160</td>\n",
              "      <td>0.886417</td>\n",
              "    </tr>\n",
              "    <tr>\n",
              "      <th>3</th>\n",
              "      <td>0.278454</td>\n",
              "      <td>0.897687</td>\n",
              "      <td>0.292244</td>\n",
              "      <td>0.890583</td>\n",
              "    </tr>\n",
              "    <tr>\n",
              "      <th>4</th>\n",
              "      <td>0.255489</td>\n",
              "      <td>0.906021</td>\n",
              "      <td>0.317318</td>\n",
              "      <td>0.885083</td>\n",
              "    </tr>\n",
              "  </tbody>\n",
              "</table>\n",
              "</div>"
            ],
            "text/plain": [
              "       loss  accuracy  val_loss  val_accuracy\n",
              "0  0.542253  0.805062  0.390993      0.858750\n",
              "1  0.355973  0.871146  0.332976      0.877583\n",
              "2  0.306419  0.888958  0.309160      0.886417\n",
              "3  0.278454  0.897687  0.292244      0.890583\n",
              "4  0.255489  0.906021  0.317318      0.885083"
            ]
          },
          "execution_count": 395,
          "metadata": {},
          "output_type": "execute_result"
        }
      ],
      "source": [
        "hs = pd.DataFrame(history.history)\n",
        "hs.head()"
      ]
    },
    {
      "cell_type": "code",
      "execution_count": null,
      "id": "f5b5a037",
      "metadata": {
        "id": "f5b5a037",
        "outputId": "31d1355f-da6d-411c-fc25-05c82e524a0a"
      },
      "outputs": [
        {
          "data": {
            "text/plain": [
              "0.2784537374973297"
            ]
          },
          "execution_count": 396,
          "metadata": {},
          "output_type": "execute_result"
        }
      ],
      "source": [
        "hs['loss'][3]"
      ]
    },
    {
      "cell_type": "code",
      "execution_count": null,
      "id": "b80e9bdb",
      "metadata": {
        "id": "b80e9bdb",
        "outputId": "b18db69a-3793-43a6-ded9-41e07f7d41d9"
      },
      "outputs": [
        {
          "data": {
            "text/plain": [
              "<AxesSubplot:>"
            ]
          },
          "execution_count": 397,
          "metadata": {},
          "output_type": "execute_result"
        },
        {
          "data": {
            "image/png": "[encoded data removed]",
            "text/plain": [
              "<Figure size 432x288 with 1 Axes>"
            ]
          },
          "metadata": {
            "needs_background": "light"
          },
          "output_type": "display_data"
        }
      ],
      "source": [
        "hs[['accuracy','val_accuracy']].plot()\n"
      ]
    },
    {
      "cell_type": "code",
      "execution_count": null,
      "id": "c13ce036",
      "metadata": {
        "id": "c13ce036",
        "outputId": "6b033de7-bfa9-4b00-85c4-26e0ead06446"
      },
      "outputs": [
        {
          "name": "stdout",
          "output_type": "stream",
          "text": [
            "313/313 [==============================] - 1s 3ms/step - loss: 0.3266 - accuracy: 0.8797\n",
            "Test accuracy: 87.97%\n"
          ]
        }
      ],
      "source": [
        "test_loss, test_acc = model.evaluate(test_images, test_labels)\n",
        "print(f\"Test accuracy: {test_acc*100:.2f}%\")"
      ]
    },
    {
      "cell_type": "code",
      "execution_count": null,
      "id": "cc01cc2b",
      "metadata": {
        "id": "cc01cc2b",
        "outputId": "61f2f151-011a-4098-b277-f354bd22378f"
      },
      "outputs": [
        {
          "data": {
            "text/html": [
              "<div>\n",
              "<style scoped>\n",
              "    .dataframe tbody tr th:only-of-type {\n",
              "        vertical-align: middle;\n",
              "    }\n",
              "\n",
              "    .dataframe tbody tr th {\n",
              "        vertical-align: top;\n",
              "    }\n",
              "\n",
              "    .dataframe thead th {\n",
              "        text-align: right;\n",
              "    }\n",
              "</style>\n",
              "<table border=\"1\" class=\"dataframe\">\n",
              "  <thead>\n",
              "    <tr style=\"text-align: right;\">\n",
              "      <th></th>\n",
              "      <th>loss</th>\n",
              "      <th>accuracy</th>\n",
              "      <th>val_loss</th>\n",
              "      <th>val_accuracy</th>\n",
              "    </tr>\n",
              "  </thead>\n",
              "  <tbody>\n",
              "    <tr>\n",
              "      <th>0</th>\n",
              "      <td>0.542253</td>\n",
              "      <td>0.805062</td>\n",
              "      <td>0.390993</td>\n",
              "      <td>0.858750</td>\n",
              "    </tr>\n",
              "    <tr>\n",
              "      <th>1</th>\n",
              "      <td>0.355973</td>\n",
              "      <td>0.871146</td>\n",
              "      <td>0.332976</td>\n",
              "      <td>0.877583</td>\n",
              "    </tr>\n",
              "    <tr>\n",
              "      <th>2</th>\n",
              "      <td>0.306419</td>\n",
              "      <td>0.888958</td>\n",
              "      <td>0.309160</td>\n",
              "      <td>0.886417</td>\n",
              "    </tr>\n",
              "    <tr>\n",
              "      <th>3</th>\n",
              "      <td>0.278454</td>\n",
              "      <td>0.897687</td>\n",
              "      <td>0.292244</td>\n",
              "      <td>0.890583</td>\n",
              "    </tr>\n",
              "    <tr>\n",
              "      <th>4</th>\n",
              "      <td>0.255489</td>\n",
              "      <td>0.906021</td>\n",
              "      <td>0.317318</td>\n",
              "      <td>0.885083</td>\n",
              "    </tr>\n",
              "  </tbody>\n",
              "</table>\n",
              "</div>"
            ],
            "text/plain": [
              "       loss  accuracy  val_loss  val_accuracy\n",
              "0  0.542253  0.805062  0.390993      0.858750\n",
              "1  0.355973  0.871146  0.332976      0.877583\n",
              "2  0.306419  0.888958  0.309160      0.886417\n",
              "3  0.278454  0.897687  0.292244      0.890583\n",
              "4  0.255489  0.906021  0.317318      0.885083"
            ]
          },
          "execution_count": 399,
          "metadata": {},
          "output_type": "execute_result"
        }
      ],
      "source": [
        "hs = pd.DataFrame(history.history)\n",
        "hs.head()"
      ]
    },
    {
      "cell_type": "code",
      "execution_count": null,
      "id": "9605d4e8",
      "metadata": {
        "id": "9605d4e8"
      },
      "outputs": [],
      "source": [
        "#Saving the model with highest accuracy\n",
        "model.save(\"C:\\\\Users\\\\91703\\\\Desktop\\\\Quantiphi\\\\Assignment_2\\\\CNN_fashion_mnist_1.keras\")"
      ]
    },
    {
      "cell_type": "markdown",
      "id": "2b4175fb",
      "metadata": {
        "id": "2b4175fb"
      },
      "source": [
        "# CNN with Data Augmentation"
      ]
    },
    {
      "cell_type": "code",
      "execution_count": null,
      "id": "2ffff7d0",
      "metadata": {
        "id": "2ffff7d0",
        "outputId": "f189a6e9-b1e5-45a0-d0c2-3b714b429096"
      },
      "outputs": [
        {
          "name": "stdout",
          "output_type": "stream",
          "text": [
            "Reading  t10k-images-idx3-ubyte\n",
            "Reading  t10k-labels-idx1-ubyte\n",
            "Reading  train-images-idx3-ubyte\n",
            "Reading  train-labels-idx1-ubyte\n"
          ]
        }
      ],
      "source": [
        "#Converting the image file into numpy_array which is present in hexadecimal format.\n",
        "#Magic number tells whether it is image or label\n",
        "\n",
        "import os,codecs,numpy\n",
        "\n",
        "\n",
        "datapath = 'C:\\\\Users\\\\91703\\\\Desktop\\\\Quantiphi\\\\Assignment_2\\\\'\n",
        "\n",
        "files = os.listdir(datapath)\n",
        "\n",
        "\n",
        "def get_int(b):\n",
        "    #return int(codecs.encode(b, 'hex'), 16) #This code and below code are same\n",
        "    return int.from_bytes(b, byteorder='big')\n",
        "\n",
        "\n",
        "data_dict = {}\n",
        "for file in files:\n",
        "    if file.endswith('ubyte'):\n",
        "        print('Reading ',file)\n",
        "        with open (datapath+file,'rb') as f:\n",
        "            data = f.read()\n",
        "            type1 = get_int(data[:4])   # 0-3: THE MAGIC NUMBER TO WHETHER IMAGE OR LABEL\n",
        "            length = get_int(data[4:8])  # 4-7: LENGTH OF THE ARRAY  (DIMENSION 0)\n",
        "            if (type1 == 2051):\n",
        "                category = 'images'\n",
        "                num_rows = get_int(data[8:12])\n",
        "                num_cols = get_int(data[12:16])\n",
        "                parsed = numpy.frombuffer(data,dtype = numpy.uint8, offset = 16)\n",
        "                parsed = parsed.reshape(length,num_rows,num_cols)\n",
        "            elif(type1 == 2049):\n",
        "                category = 'labels'\n",
        "                parsed = numpy.frombuffer(data, dtype=numpy.uint8, offset=8)\n",
        "                parsed = parsed.reshape(length,1)\n",
        "            if (length==10000):\n",
        "                set1 = 'test'\n",
        "            elif (length==60000):\n",
        "                set1= 'train'\n",
        "            data_dict[set1+'_'+category] = parsed"
      ]
    },
    {
      "cell_type": "code",
      "execution_count": null,
      "id": "b0b1e7fc",
      "metadata": {
        "id": "b0b1e7fc"
      },
      "outputs": [],
      "source": [
        "test_images=data_dict['test_images']\n",
        "test_labels=data_dict['test_labels']\n",
        "train_images=data_dict['train_images']\n",
        "train_labels=data_dict['train_labels']"
      ]
    },
    {
      "cell_type": "code",
      "execution_count": null,
      "id": "68233865",
      "metadata": {
        "id": "68233865"
      },
      "outputs": [],
      "source": [
        "\"\"\"\n",
        "Scale these values to a range of 0 to 1 before feeding them to the neural network model.\n",
        "To do so, divide the values by 255. It's important that the training set and the testing\n",
        "set be preprocessed in the same way:\n",
        "\"\"\"\n",
        "train_images = train_images.reshape((60000,28,28,1))\n",
        "train_images = train_images / 255.0\n",
        "test_images = test_images.reshape((10000,28,28,1))\n",
        "test_images = test_images / 255.0"
      ]
    },
    {
      "cell_type": "code",
      "execution_count": null,
      "id": "d9dd1420",
      "metadata": {
        "id": "d9dd1420"
      },
      "outputs": [],
      "source": [
        "AUG_LAYERS = [\n",
        "    tf.keras.layers.RandomFlip(mode='horizontal'),\n",
        "    tf.keras.layers.RandomRotation(0.2),\n",
        "    tf.keras.layers.RandomZoom(0.05)\n",
        "    ]"
      ]
    },
    {
      "cell_type": "code",
      "execution_count": null,
      "id": "2bcecf77",
      "metadata": {
        "id": "2bcecf77"
      },
      "outputs": [],
      "source": [
        "aug_data = tf.keras.Sequential(AUG_LAYERS)"
      ]
    },
    {
      "cell_type": "code",
      "execution_count": null,
      "id": "86f14acd",
      "metadata": {
        "id": "86f14acd"
      },
      "outputs": [],
      "source": [
        "p=train_images[0]"
      ]
    },
    {
      "cell_type": "code",
      "execution_count": null,
      "id": "f1f71832",
      "metadata": {
        "id": "f1f71832",
        "outputId": "4319b9bd-4d6c-420f-dffa-490ddb780179"
      },
      "outputs": [
        {
          "data": {
            "text/plain": [
              "TensorShape([28, 28, 1])"
            ]
          },
          "execution_count": 422,
          "metadata": {},
          "output_type": "execute_result"
        }
      ],
      "source": [
        "aug_data(p).shape\n"
      ]
    },
    {
      "cell_type": "code",
      "execution_count": null,
      "id": "bee3f938",
      "metadata": {
        "id": "bee3f938",
        "outputId": "934ce93b-fbee-4ae2-b1d6-95dd02a6af64"
      },
      "outputs": [
        {
          "data": {
            "text/plain": [
              "(28, 28, 1)"
            ]
          },
          "execution_count": 423,
          "metadata": {},
          "output_type": "execute_result"
        }
      ],
      "source": [
        "aug_data(p).numpy().shape"
      ]
    },
    {
      "cell_type": "code",
      "execution_count": null,
      "id": "24f862ff",
      "metadata": {
        "id": "24f862ff",
        "outputId": "2a176e35-c055-4564-a7ad-b4982cc93287"
      },
      "outputs": [
        {
          "name": "stdout",
          "output_type": "stream",
          "text": [
            "(28, 28, 1)\n"
          ]
        }
      ],
      "source": [
        "image = train_images[100]\n",
        "print(image.shape)"
      ]
    },
    {
      "cell_type": "code",
      "execution_count": null,
      "id": "30d9d158",
      "metadata": {
        "id": "30d9d158"
      },
      "outputs": [],
      "source": [
        "#If we don't use this also then also our code will run with no problem as it is just adding one more dimension to our data\n",
        "#by adding 1 at the starting\n",
        "#Use 164 and 165 line of code block only when our sequential give error regarding shape of data\n",
        "#image = tf.cast(tf.expand_dims(image, 0), tf.float32)\n",
        "#print(image.shape)"
      ]
    },
    {
      "cell_type": "code",
      "execution_count": null,
      "id": "0e560191",
      "metadata": {
        "id": "0e560191"
      },
      "outputs": [],
      "source": [
        "#If we want to change it back we can use\n",
        "#z=tf.cast(tf.squeeze(image, 0), tf.float32)\n",
        "#print(z.shape)"
      ]
    },
    {
      "cell_type": "code",
      "execution_count": null,
      "id": "1427dd62",
      "metadata": {
        "id": "1427dd62",
        "outputId": "4c18fd6e-9735-4b71-d850-29ca3c343198"
      },
      "outputs": [
        {
          "data": {
            "image/png": "[encoded data removed]",
            "text/plain": [
              "<Figure size 720x720 with 9 Axes>"
            ]
          },
          "metadata": {
            "needs_background": "light"
          },
          "output_type": "display_data"
        }
      ],
      "source": [
        "plt.figure(figsize=(10,10))\n",
        "for i in range(9):\n",
        "    aug_image = aug_data(image)\n",
        "    axes = plt.subplot(3,3,i+1)\n",
        "    plt.imshow(aug_data(image).numpy().reshape(28,28))\n",
        "    plt.axis(\"off\")"
      ]
    },
    {
      "cell_type": "code",
      "execution_count": null,
      "id": "e4403115",
      "metadata": {
        "id": "e4403115"
      },
      "outputs": [],
      "source": [
        "input_shape = (28, 28, 1)"
      ]
    },
    {
      "cell_type": "code",
      "execution_count": null,
      "id": "06676bd7",
      "metadata": {
        "id": "06676bd7"
      },
      "outputs": [],
      "source": [
        "LAYERS_1 = [\n",
        "    tf.keras.Input(shape=(28,28,1)),\n",
        "    tf.keras.layers.RandomFlip(mode='horizontal'),\n",
        "    tf.keras.layers.RandomRotation(0.2),\n",
        "    tf.keras.layers.RandomZoom(0.05),\n",
        "    tf.keras.layers.Conv2D(16, 3, padding='same', activation='relu'),\n",
        "    tf.keras.layers.MaxPooling2D((2,2)),\n",
        "    tf.keras.layers.Conv2D(32, (3,3),strides=1, activation='relu'),\n",
        "    tf.keras.layers.MaxPooling2D((2, 2)),\n",
        "    tf.keras.layers.Conv2D(64, (3,3), activation='relu'),\n",
        "    tf.keras.layers.MaxPooling2D((2, 2)),\n",
        "    tf.keras.layers.Flatten(),\n",
        "    tf.keras.layers.Dense(64, activation='relu'),\n",
        "    tf.keras.layers.Dense(10, activation='softmax')\n",
        "]"
      ]
    },
    {
      "cell_type": "code",
      "execution_count": null,
      "id": "bbb9709b",
      "metadata": {
        "id": "bbb9709b"
      },
      "outputs": [],
      "source": [
        "model_1 = tf.keras.models.Sequential(layers= LAYERS_1)"
      ]
    },
    {
      "cell_type": "code",
      "execution_count": null,
      "id": "49d7d2cf",
      "metadata": {
        "id": "49d7d2cf",
        "outputId": "5ecf92fe-e6f3-4531-e43a-692206f43523"
      },
      "outputs": [
        {
          "data": {
            "image/png": "[encoded data removed]",
            "text/plain": [
              "<PIL.Image.Image image mode=RGBA size=398x150 at 0x2D07E391DC0>"
            ]
          },
          "execution_count": 431,
          "metadata": {},
          "output_type": "execute_result"
        }
      ],
      "source": [
        "visualkeras.layered_view(model_1)"
      ]
    },
    {
      "cell_type": "code",
      "execution_count": null,
      "id": "ed1062bb",
      "metadata": {
        "id": "ed1062bb"
      },
      "outputs": [],
      "source": [
        "model_1.compile(optimizer='adam',\n",
        "              loss='sparse_categorical_crossentropy',\n",
        "              metrics=['accuracy'])"
      ]
    },
    {
      "cell_type": "code",
      "execution_count": null,
      "id": "a43111e9",
      "metadata": {
        "id": "a43111e9"
      },
      "outputs": [],
      "source": [
        "# Split the training dataset into training and validation sets\n",
        "train_images, val_images, train_labels, val_labels = train_test_split(train_images, train_labels, test_size=0.2, random_state=0)"
      ]
    },
    {
      "cell_type": "code",
      "execution_count": null,
      "id": "7f089a4a",
      "metadata": {
        "id": "7f089a4a",
        "outputId": "48d6afa6-860e-4ab6-bef7-d62ce39a64d1"
      },
      "outputs": [
        {
          "name": "stdout",
          "output_type": "stream",
          "text": [
            "Epoch 1/5\n",
            "1500/1500 [==============================] - 19s 12ms/step - loss: 0.9715 - accuracy: 0.6454 - val_loss: 0.6760 - val_accuracy: 0.7579\n",
            "Epoch 2/5\n",
            "1500/1500 [==============================] - 18s 12ms/step - loss: 0.6834 - accuracy: 0.7486 - val_loss: 0.6143 - val_accuracy: 0.7772\n",
            "Epoch 3/5\n",
            "1500/1500 [==============================] - 21s 14ms/step - loss: 0.6089 - accuracy: 0.7770 - val_loss: 0.5491 - val_accuracy: 0.8023\n",
            "Epoch 4/5\n",
            "1500/1500 [==============================] - 17s 11ms/step - loss: 0.5665 - accuracy: 0.7915 - val_loss: 0.5131 - val_accuracy: 0.8112\n",
            "Epoch 5/5\n",
            "1500/1500 [==============================] - 18s 12ms/step - loss: 0.5344 - accuracy: 0.8054 - val_loss: 0.4858 - val_accuracy: 0.8294\n"
          ]
        }
      ],
      "source": [
        "EPOCHS = 5\n",
        "history_1 = model_1.fit(train_images, train_labels,epochs=EPOCHS,validation_data=(val_images, val_labels))"
      ]
    },
    {
      "cell_type": "code",
      "execution_count": null,
      "id": "3a7e5166",
      "metadata": {
        "id": "3a7e5166",
        "outputId": "80c32b8e-adb8-44c8-8580-e5dd418e2407"
      },
      "outputs": [
        {
          "data": {
            "text/html": [
              "<div>\n",
              "<style scoped>\n",
              "    .dataframe tbody tr th:only-of-type {\n",
              "        vertical-align: middle;\n",
              "    }\n",
              "\n",
              "    .dataframe tbody tr th {\n",
              "        vertical-align: top;\n",
              "    }\n",
              "\n",
              "    .dataframe thead th {\n",
              "        text-align: right;\n",
              "    }\n",
              "</style>\n",
              "<table border=\"1\" class=\"dataframe\">\n",
              "  <thead>\n",
              "    <tr style=\"text-align: right;\">\n",
              "      <th></th>\n",
              "      <th>loss</th>\n",
              "      <th>accuracy</th>\n",
              "      <th>val_loss</th>\n",
              "      <th>val_accuracy</th>\n",
              "    </tr>\n",
              "  </thead>\n",
              "  <tbody>\n",
              "    <tr>\n",
              "      <th>0</th>\n",
              "      <td>0.971549</td>\n",
              "      <td>0.645354</td>\n",
              "      <td>0.676013</td>\n",
              "      <td>0.757917</td>\n",
              "    </tr>\n",
              "    <tr>\n",
              "      <th>1</th>\n",
              "      <td>0.683434</td>\n",
              "      <td>0.748625</td>\n",
              "      <td>0.614308</td>\n",
              "      <td>0.777167</td>\n",
              "    </tr>\n",
              "    <tr>\n",
              "      <th>2</th>\n",
              "      <td>0.608890</td>\n",
              "      <td>0.777021</td>\n",
              "      <td>0.549095</td>\n",
              "      <td>0.802250</td>\n",
              "    </tr>\n",
              "    <tr>\n",
              "      <th>3</th>\n",
              "      <td>0.566479</td>\n",
              "      <td>0.791458</td>\n",
              "      <td>0.513095</td>\n",
              "      <td>0.811167</td>\n",
              "    </tr>\n",
              "    <tr>\n",
              "      <th>4</th>\n",
              "      <td>0.534370</td>\n",
              "      <td>0.805375</td>\n",
              "      <td>0.485757</td>\n",
              "      <td>0.829417</td>\n",
              "    </tr>\n",
              "  </tbody>\n",
              "</table>\n",
              "</div>"
            ],
            "text/plain": [
              "       loss  accuracy  val_loss  val_accuracy\n",
              "0  0.971549  0.645354  0.676013      0.757917\n",
              "1  0.683434  0.748625  0.614308      0.777167\n",
              "2  0.608890  0.777021  0.549095      0.802250\n",
              "3  0.566479  0.791458  0.513095      0.811167\n",
              "4  0.534370  0.805375  0.485757      0.829417"
            ]
          },
          "execution_count": 435,
          "metadata": {},
          "output_type": "execute_result"
        }
      ],
      "source": [
        "hs = pd.DataFrame(history_1.history)\n",
        "hs.head()"
      ]
    },
    {
      "cell_type": "code",
      "execution_count": null,
      "id": "90f4974e",
      "metadata": {
        "id": "90f4974e",
        "outputId": "99ca769d-2394-47ff-e981-811d0cf81027"
      },
      "outputs": [
        {
          "data": {
            "text/plain": [
              "<AxesSubplot:>"
            ]
          },
          "execution_count": 436,
          "metadata": {},
          "output_type": "execute_result"
        },
        {
          "data": {
            "image/png": "[encoded data removed]",
            "text/plain": [
              "<Figure size 432x288 with 1 Axes>"
            ]
          },
          "metadata": {
            "needs_background": "light"
          },
          "output_type": "display_data"
        }
      ],
      "source": [
        "hs[['accuracy','val_accuracy']].plot()"
      ]
    },
    {
      "cell_type": "code",
      "execution_count": null,
      "id": "f9f9f599",
      "metadata": {
        "id": "f9f9f599",
        "outputId": "00a02348-196b-43a7-b526-9a58c756b3d9"
      },
      "outputs": [
        {
          "name": "stdout",
          "output_type": "stream",
          "text": [
            "313/313 [==============================] - 1s 3ms/step - loss: 0.5180 - accuracy: 0.8198\n",
            "Test accuracy: 81.98%\n"
          ]
        }
      ],
      "source": [
        "test_loss, test_acc = model_1.evaluate(test_images, test_labels)\n",
        "print(f\"Test accuracy: {test_acc*100:.2f}%\")"
      ]
    },
    {
      "cell_type": "code",
      "execution_count": null,
      "id": "fed5871f",
      "metadata": {
        "id": "fed5871f"
      },
      "outputs": [],
      "source": [
        "#Saving the model with highest accuracy\n",
        "model_1.save(\"C:\\\\Users\\\\91703\\\\Desktop\\\\Quantiphi\\\\Assignment_2\\\\CNN_fashion_mnist_2.keras\")"
      ]
    },
    {
      "cell_type": "markdown",
      "id": "50aa7a73",
      "metadata": {
        "id": "50aa7a73"
      },
      "source": [
        "# Augmentation with callbacks"
      ]
    },
    {
      "cell_type": "code",
      "execution_count": null,
      "id": "a4024ce3",
      "metadata": {
        "id": "a4024ce3",
        "outputId": "25f4d0d8-e81c-4fb4-fe54-0904dc5c4aab"
      },
      "outputs": [
        {
          "name": "stdout",
          "output_type": "stream",
          "text": [
            "Reading  t10k-images-idx3-ubyte\n",
            "Reading  t10k-labels-idx1-ubyte\n",
            "Reading  train-images-idx3-ubyte\n",
            "Reading  train-labels-idx1-ubyte\n"
          ]
        }
      ],
      "source": [
        "#Converting the image file into numpy_array which is present in hexadecimal format.\n",
        "#Magic number tells whether it is image or label\n",
        "\n",
        "import os,codecs,numpy\n",
        "\n",
        "\n",
        "datapath = 'C:\\\\Users\\\\91703\\\\Desktop\\\\Quantiphi\\\\Assignment_2\\\\'\n",
        "\n",
        "files = os.listdir(datapath)\n",
        "\n",
        "\n",
        "def get_int(b):\n",
        "    #return int(codecs.encode(b, 'hex'), 16) #This code and below code are same\n",
        "    return int.from_bytes(b, byteorder='big')\n",
        "\n",
        "\n",
        "data_dict = {}\n",
        "for file in files:\n",
        "    if file.endswith('ubyte'):\n",
        "        print('Reading ',file)\n",
        "        with open (datapath+file,'rb') as f:\n",
        "            data = f.read()\n",
        "            type1 = get_int(data[:4])   # 0-3: THE MAGIC NUMBER TO WHETHER IMAGE OR LABEL\n",
        "            length = get_int(data[4:8])  # 4-7: LENGTH OF THE ARRAY  (DIMENSION 0)\n",
        "            if (type1 == 2051):\n",
        "                category = 'images'\n",
        "                num_rows = get_int(data[8:12])\n",
        "                num_cols = get_int(data[12:16])\n",
        "                parsed = numpy.frombuffer(data,dtype = numpy.uint8, offset = 16)\n",
        "                parsed = parsed.reshape(length,num_rows,num_cols)\n",
        "            elif(type1 == 2049):\n",
        "                category = 'labels'\n",
        "                parsed = numpy.frombuffer(data, dtype=numpy.uint8, offset=8)\n",
        "                parsed = parsed.reshape(length,1)\n",
        "            if (length==10000):\n",
        "                set1 = 'test'\n",
        "            elif (length==60000):\n",
        "                set1= 'train'\n",
        "            data_dict[set1+'_'+category] = parsed"
      ]
    },
    {
      "cell_type": "code",
      "execution_count": null,
      "id": "cd92c675",
      "metadata": {
        "id": "cd92c675"
      },
      "outputs": [],
      "source": [
        "test_images=data_dict['test_images']\n",
        "test_labels=data_dict['test_labels']\n",
        "train_images=data_dict['train_images']\n",
        "train_labels=data_dict['train_labels']"
      ]
    },
    {
      "cell_type": "code",
      "execution_count": null,
      "id": "e27b92f5",
      "metadata": {
        "id": "e27b92f5"
      },
      "outputs": [],
      "source": [
        "\"\"\"\n",
        "Scale these values to a range of 0 to 1 before feeding them to the neural network model.\n",
        "To do so, divide the values by 255. It's important that the training set and the testing\n",
        "set be preprocessed in the same way:\n",
        "\"\"\"\n",
        "train_images = train_images.reshape((60000,28,28,1))\n",
        "train_images = train_images / 255.0\n",
        "test_images = test_images.reshape((10000,28,28,1))\n",
        "test_images = test_images / 255.0"
      ]
    },
    {
      "cell_type": "code",
      "execution_count": null,
      "id": "b923f882",
      "metadata": {
        "id": "b923f882",
        "outputId": "7b74e3d5-9710-4d8a-9d93-03666c4776a7"
      },
      "outputs": [
        {
          "data": {
            "text/plain": [
              "\"LAYERS_2 = [\\n    tf.keras.Input(shape=(28,28,1)),\\n    tf.keras.layers.RandomFlip(mode='horizontal'),\\n    tf.keras.layers.RandomRotation(0.2),\\n    tf.keras.layers.RandomZoom(0.05),\\n    tf.keras.layers.Conv2D(16, 3, padding='same', activation='relu'),\\n    tf.keras.layers.BatchNormalization(),\\n    tf.keras.layers.MaxPooling2D((2,2)),\\n    tf.keras.layers.Dropout(0.1),\\n    tf.keras.layers.Conv2D(32, (3,3),strides=1, activation='relu'),\\n    tf.keras.layers.BatchNormalization(),\\n    tf.keras.layers.MaxPooling2D((2, 2)),\\n    tf.keras.layers.Dropout(0.1),\\n    tf.keras.layers.Conv2D(64, (3,3), activation='relu'),\\n    tf.keras.layers.BatchNormalization(),\\n    tf.keras.layers.MaxPooling2D((2, 2)),\\n    tf.keras.layers.Dropout(0.1),\\n    tf.keras.layers.Flatten(),\\n    tf.keras.layers.Dense(64, activation='relu'),\\n    tf.keras.layers.BatchNormalization(),\\n    tf.keras.layers.Dropout(0.1),\\n    tf.keras.layers.Dense(10, activation='softmax')\\n]\""
            ]
          },
          "execution_count": 457,
          "metadata": {},
          "output_type": "execute_result"
        }
      ],
      "source": [
        "'''LAYERS_2 = [\n",
        "    tf.keras.Input(shape=(28,28,1)),\n",
        "    tf.keras.layers.RandomFlip(mode='horizontal'),\n",
        "    tf.keras.layers.RandomRotation(0.2),\n",
        "    tf.keras.layers.RandomZoom(0.05),\n",
        "    tf.keras.layers.Conv2D(16, 3, padding='same', activation='relu'),\n",
        "    tf.keras.layers.BatchNormalization(),\n",
        "    tf.keras.layers.MaxPooling2D((2,2)),\n",
        "    tf.keras.layers.Dropout(0.1),\n",
        "    tf.keras.layers.Conv2D(32, (3,3),strides=1, activation='relu'),\n",
        "    tf.keras.layers.BatchNormalization(),\n",
        "    tf.keras.layers.MaxPooling2D((2, 2)),\n",
        "    tf.keras.layers.Dropout(0.1),\n",
        "    tf.keras.layers.Conv2D(64, (3,3), activation='relu'),\n",
        "    tf.keras.layers.BatchNormalization(),\n",
        "    tf.keras.layers.MaxPooling2D((2, 2)),\n",
        "    tf.keras.layers.Dropout(0.1),\n",
        "    tf.keras.layers.Flatten(),\n",
        "    tf.keras.layers.Dense(64, activation='relu'),\n",
        "    tf.keras.layers.BatchNormalization(),\n",
        "    tf.keras.layers.Dropout(0.1),\n",
        "    tf.keras.layers.Dense(10, activation='softmax')\n",
        "]'''"
      ]
    },
    {
      "cell_type": "code",
      "execution_count": null,
      "id": "2995efbe",
      "metadata": {
        "id": "2995efbe"
      },
      "outputs": [],
      "source": [
        "#Here dropout is before max pool\n",
        "LAYERS_2 = [\n",
        "    tf.keras.Input(shape=(28,28,1)),\n",
        "    tf.keras.layers.RandomFlip(mode='horizontal'),\n",
        "    tf.keras.layers.RandomRotation(0.2),\n",
        "    tf.keras.layers.RandomZoom(0.05),\n",
        "    tf.keras.layers.Conv2D(16, 3, padding='same', activation='relu'),\n",
        "    tf.keras.layers.BatchNormalization(),\n",
        "    tf.keras.layers.Dropout(0.1),\n",
        "    tf.keras.layers.MaxPooling2D((2,2)),\n",
        "    tf.keras.layers.Conv2D(32, (3,3),strides=1, activation='relu'),\n",
        "    tf.keras.layers.BatchNormalization(),\n",
        "    tf.keras.layers.Dropout(0.1),\n",
        "    tf.keras.layers.MaxPooling2D((2, 2)),\n",
        "    tf.keras.layers.Conv2D(64, (3,3), activation='relu'),\n",
        "    tf.keras.layers.BatchNormalization(),\n",
        "    tf.keras.layers.Dropout(0.1),\n",
        "    tf.keras.layers.MaxPooling2D((2, 2)),\n",
        "    tf.keras.layers.Flatten(),\n",
        "    tf.keras.layers.Dense(64, activation='relu'),\n",
        "    tf.keras.layers.BatchNormalization(),\n",
        "    tf.keras.layers.Dropout(0.1),\n",
        "    tf.keras.layers.Dense(10, activation='softmax')\n",
        "]"
      ]
    },
    {
      "cell_type": "code",
      "execution_count": null,
      "id": "485623da",
      "metadata": {
        "id": "485623da"
      },
      "outputs": [],
      "source": [
        "model_2 = tf.keras.models.Sequential(layers= LAYERS_2)"
      ]
    },
    {
      "cell_type": "code",
      "execution_count": null,
      "id": "c633b79f",
      "metadata": {
        "id": "c633b79f",
        "outputId": "3a11a893-98cb-43b3-834e-b39fa6600e4b"
      },
      "outputs": [
        {
          "data": {
            "image/png": "[encoded data removed]",
            "text/plain": [
              "<PIL.Image.Image image mode=RGBA size=638x150 at 0x2D082F34EE0>"
            ]
          },
          "execution_count": 461,
          "metadata": {},
          "output_type": "execute_result"
        }
      ],
      "source": [
        "visualkeras.layered_view(model_2)"
      ]
    },
    {
      "cell_type": "code",
      "execution_count": null,
      "id": "ee74b229",
      "metadata": {
        "id": "ee74b229"
      },
      "outputs": [],
      "source": [
        "model_2.compile(optimizer='adam',\n",
        "              loss='sparse_categorical_crossentropy',\n",
        "              metrics=['accuracy'])"
      ]
    },
    {
      "cell_type": "code",
      "execution_count": null,
      "id": "13e0c801",
      "metadata": {
        "id": "13e0c801"
      },
      "outputs": [],
      "source": [
        "reduce_lr = tf.keras.callbacks.ReduceLROnPlateau(monitor='accuracy', factor=0.2, patience=3, min_lr=0.01)"
      ]
    },
    {
      "cell_type": "code",
      "execution_count": null,
      "id": "bf78ce94",
      "metadata": {
        "id": "bf78ce94"
      },
      "outputs": [],
      "source": [
        "early_stop_cb = tf.keras.callbacks.EarlyStopping(monitor='accuracy',patience=3,restore_best_weights=False)"
      ]
    },
    {
      "cell_type": "code",
      "execution_count": null,
      "id": "10997028",
      "metadata": {
        "id": "10997028"
      },
      "outputs": [],
      "source": [
        "# Split the training dataset into training and validation sets\n",
        "train_images, val_images, train_labels, val_labels = train_test_split(train_images, train_labels, test_size=0.2, random_state=0)"
      ]
    },
    {
      "cell_type": "code",
      "execution_count": null,
      "id": "284c1e94",
      "metadata": {
        "id": "284c1e94",
        "outputId": "1c3aedb6-eadb-4bac-f526-682e674c4668"
      },
      "outputs": [
        {
          "name": "stdout",
          "output_type": "stream",
          "text": [
            "Epoch 1/5\n",
            "1500/1500 [==============================] - 28s 18ms/step - loss: 0.9659 - accuracy: 0.6563 - val_loss: 0.7738 - val_accuracy: 0.7218 - lr: 0.0010\n",
            "Epoch 2/5\n",
            "1500/1500 [==============================] - 28s 19ms/step - loss: 0.7089 - accuracy: 0.7425 - val_loss: 0.5677 - val_accuracy: 0.7972 - lr: 0.0010\n",
            "Epoch 3/5\n",
            "1500/1500 [==============================] - 29s 19ms/step - loss: 0.6317 - accuracy: 0.7718 - val_loss: 0.6206 - val_accuracy: 0.7679 - lr: 0.0010\n",
            "Epoch 4/5\n",
            "1500/1500 [==============================] - 27s 18ms/step - loss: 0.5925 - accuracy: 0.7871 - val_loss: 0.4649 - val_accuracy: 0.8277 - lr: 0.0010\n",
            "Epoch 5/5\n",
            "1500/1500 [==============================] - 27s 18ms/step - loss: 0.5661 - accuracy: 0.7934 - val_loss: 0.4596 - val_accuracy: 0.8302 - lr: 0.0010\n"
          ]
        }
      ],
      "source": [
        "'''EPOCHS = 5\n",
        "history_2 = model_2.fit(train_images, train_labels,epochs=EPOCHS, callbacks = [reduce_lr, early_stop_cb],validation_data=(val_images, val_labels))'''"
      ]
    },
    {
      "cell_type": "code",
      "execution_count": null,
      "id": "824c6e3b",
      "metadata": {
        "id": "824c6e3b",
        "outputId": "6a266d8c-af03-4e5c-b9af-4a86076ab02b"
      },
      "outputs": [
        {
          "name": "stdout",
          "output_type": "stream",
          "text": [
            "Epoch 1/5\n",
            "1500/1500 [==============================] - 27s 17ms/step - loss: 0.8968 - accuracy: 0.6815 - val_loss: 0.5971 - val_accuracy: 0.7804 - lr: 0.0010\n",
            "Epoch 2/5\n",
            "1500/1500 [==============================] - 30s 20ms/step - loss: 0.6634 - accuracy: 0.7615 - val_loss: 0.5423 - val_accuracy: 0.7977 - lr: 0.0010\n",
            "Epoch 3/5\n",
            "1500/1500 [==============================] - 31s 21ms/step - loss: 0.5977 - accuracy: 0.7824 - val_loss: 0.4910 - val_accuracy: 0.8219 - lr: 0.0010\n",
            "Epoch 4/5\n",
            "1500/1500 [==============================] - 30s 20ms/step - loss: 0.5502 - accuracy: 0.8010 - val_loss: 0.5525 - val_accuracy: 0.8008 - lr: 0.0010\n",
            "Epoch 5/5\n",
            "1500/1500 [==============================] - 33s 22ms/step - loss: 0.5259 - accuracy: 0.8086 - val_loss: 0.4459 - val_accuracy: 0.8378 - lr: 0.0010\n"
          ]
        }
      ],
      "source": [
        "EPOCHS = 5\n",
        "history_2 = model_2.fit(train_images, train_labels,epochs=EPOCHS, callbacks = [reduce_lr, early_stop_cb],validation_data=(val_images, val_labels))"
      ]
    },
    {
      "cell_type": "code",
      "execution_count": null,
      "id": "b60b028d",
      "metadata": {
        "id": "b60b028d",
        "outputId": "35481b83-dadd-4468-ee21-7b149bc9ac66"
      },
      "outputs": [
        {
          "data": {
            "text/html": [
              "<div>\n",
              "<style scoped>\n",
              "    .dataframe tbody tr th:only-of-type {\n",
              "        vertical-align: middle;\n",
              "    }\n",
              "\n",
              "    .dataframe tbody tr th {\n",
              "        vertical-align: top;\n",
              "    }\n",
              "\n",
              "    .dataframe thead th {\n",
              "        text-align: right;\n",
              "    }\n",
              "</style>\n",
              "<table border=\"1\" class=\"dataframe\">\n",
              "  <thead>\n",
              "    <tr style=\"text-align: right;\">\n",
              "      <th></th>\n",
              "      <th>loss</th>\n",
              "      <th>accuracy</th>\n",
              "      <th>val_loss</th>\n",
              "      <th>val_accuracy</th>\n",
              "      <th>lr</th>\n",
              "    </tr>\n",
              "  </thead>\n",
              "  <tbody>\n",
              "    <tr>\n",
              "      <th>0</th>\n",
              "      <td>0.896791</td>\n",
              "      <td>0.681479</td>\n",
              "      <td>0.597076</td>\n",
              "      <td>0.780417</td>\n",
              "      <td>0.001</td>\n",
              "    </tr>\n",
              "    <tr>\n",
              "      <th>1</th>\n",
              "      <td>0.663384</td>\n",
              "      <td>0.761458</td>\n",
              "      <td>0.542344</td>\n",
              "      <td>0.797667</td>\n",
              "      <td>0.001</td>\n",
              "    </tr>\n",
              "    <tr>\n",
              "      <th>2</th>\n",
              "      <td>0.597682</td>\n",
              "      <td>0.782438</td>\n",
              "      <td>0.491037</td>\n",
              "      <td>0.821917</td>\n",
              "      <td>0.001</td>\n",
              "    </tr>\n",
              "    <tr>\n",
              "      <th>3</th>\n",
              "      <td>0.550186</td>\n",
              "      <td>0.800958</td>\n",
              "      <td>0.552521</td>\n",
              "      <td>0.800750</td>\n",
              "      <td>0.001</td>\n",
              "    </tr>\n",
              "    <tr>\n",
              "      <th>4</th>\n",
              "      <td>0.525861</td>\n",
              "      <td>0.808625</td>\n",
              "      <td>0.445905</td>\n",
              "      <td>0.837833</td>\n",
              "      <td>0.001</td>\n",
              "    </tr>\n",
              "  </tbody>\n",
              "</table>\n",
              "</div>"
            ],
            "text/plain": [
              "       loss  accuracy  val_loss  val_accuracy     lr\n",
              "0  0.896791  0.681479  0.597076      0.780417  0.001\n",
              "1  0.663384  0.761458  0.542344      0.797667  0.001\n",
              "2  0.597682  0.782438  0.491037      0.821917  0.001\n",
              "3  0.550186  0.800958  0.552521      0.800750  0.001\n",
              "4  0.525861  0.808625  0.445905      0.837833  0.001"
            ]
          },
          "execution_count": 467,
          "metadata": {},
          "output_type": "execute_result"
        }
      ],
      "source": [
        "hs = pd.DataFrame(history_2.history)\n",
        "hs.head()"
      ]
    },
    {
      "cell_type": "code",
      "execution_count": null,
      "id": "65376b07",
      "metadata": {
        "id": "65376b07",
        "outputId": "6e954e92-ebd4-41fe-d31c-26f9e9cb47f5"
      },
      "outputs": [
        {
          "data": {
            "text/plain": [
              "<AxesSubplot:>"
            ]
          },
          "execution_count": 468,
          "metadata": {},
          "output_type": "execute_result"
        },
        {
          "data": {
            "image/png": "[encoded data removed]",
            "text/plain": [
              "<Figure size 432x288 with 1 Axes>"
            ]
          },
          "metadata": {
            "needs_background": "light"
          },
          "output_type": "display_data"
        }
      ],
      "source": [
        "hs[['accuracy','val_accuracy']].plot()"
      ]
    },
    {
      "cell_type": "code",
      "execution_count": null,
      "id": "9674b64b",
      "metadata": {
        "id": "9674b64b",
        "outputId": "0f4f634d-e367-43f1-da82-98e73a22eeb4"
      },
      "outputs": [
        {
          "name": "stdout",
          "output_type": "stream",
          "text": [
            "313/313 [==============================] - 2s 5ms/step - loss: 0.4667 - accuracy: 0.8340\n",
            "Test accuracy: 83.40%\n"
          ]
        }
      ],
      "source": [
        "test_loss, test_acc = model_2.evaluate(test_images, test_labels)\n",
        "print(f\"Test accuracy: {test_acc*100:.2f}%\")"
      ]
    },
    {
      "cell_type": "code",
      "execution_count": null,
      "id": "75a06f33",
      "metadata": {
        "id": "75a06f33"
      },
      "outputs": [],
      "source": [
        "#Saving the model with highest accuracy\n",
        "model_2.save(\"C:\\\\Users\\\\91703\\\\Desktop\\\\Quantiphi\\\\Assignment_2\\\\CNN_fashion_mnist_3.keras\")"
      ]
    }
  ],
  "metadata": {
    "kernelspec": {
      "display_name": "Python 3 (ipykernel)",
      "language": "python",
      "name": "python3"
    },
    "language_info": {
      "codemirror_mode": {
        "name": "ipython",
        "version": 3
      },
      "file_extension": ".py",
      "mimetype": "text/x-python",
      "name": "python",
      "nbconvert_exporter": "python",
      "pygments_lexer": "ipython3",
      "version": "3.9.7"
    },
    "colab": {
      "provenance": [],
      "include_colab_link": true
    }
  },
  "nbformat": 4,
  "nbformat_minor": 5
}